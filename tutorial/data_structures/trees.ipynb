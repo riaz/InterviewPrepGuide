{
 "cells": [
  {
   "cell_type": "code",
   "execution_count": 13,
   "metadata": {},
   "outputs": [],
   "source": [
    "from typing import List\n",
    "\n",
    "class TreeNode(object):\n",
    "    def __init__(self, x: int):\n",
    "        self.val = x\n",
    "        self.left = None\n",
    "        self.right = None\n",
    "    \n",
    "    def __repr__(self):\n",
    "        return str(self.val)\n",
    "    \n",
    "    def __str__(self):\n",
    "        return str(self.val)\n",
    "    \n",
    "    def __eq__(self, other: 'TreeNode'):\n",
    "        return self.val == other.val\n",
    "    \n",
    "    def __ne__(self, other : 'TreeNode'):\n",
    "        return self.val != other.val\n",
    "    \n",
    "    def __lt__(self, other : 'TreeNode'):\n",
    "        return self.val < other.val\n",
    "    \n",
    "    def left_child(self) -> 'TreeNode':\n",
    "        return self.left\n",
    "    \n",
    "    def right_child(self) -> 'TreeNode':\n",
    "        return self.right\n",
    "    \n",
    "    def inorder_traversal(self) -> List[int]:\n",
    "        result = []\n",
    "        if self.left:\n",
    "            result += self.left.inorder_traversal()\n",
    "        result.append(self.val)\n",
    "        if self.right:\n",
    "            result += self.right.inorder_traversal()\n",
    "        return result\n",
    "    \n",
    "    def postorder_traversal(self) -> List[int]:\n",
    "        result = []\n",
    "        if self.left:\n",
    "            result += self.left.postorder_traversal()\n",
    "        if self.right:\n",
    "            result += self.right.postorder_traversal()\n",
    "        result.append(self.val)\n",
    "        return result\n",
    "    \n",
    "    def preorder_traversal(self) -> List[int]:\n",
    "        result = []\n",
    "        result.append(self.val)\n",
    "        if self.left:\n",
    "            result += self.left.postorder_traversal()\n",
    "        if self.right:\n",
    "            result += self.right.postorder_traversal()        \n",
    "        return result"
   ]
  },
  {
   "cell_type": "code",
   "execution_count": 14,
   "metadata": {},
   "outputs": [],
   "source": [
    "root = TreeNode(2)\n",
    "root.left = TreeNode(1)\n",
    "root.right = TreeNode(3)"
   ]
  },
  {
   "cell_type": "code",
   "execution_count": 16,
   "metadata": {},
   "outputs": [
    {
     "name": "stdout",
     "output_type": "stream",
     "text": [
      "[1, 2, 3]\n",
      "[2, 1, 3]\n",
      "[1, 3, 2]\n"
     ]
    }
   ],
   "source": [
    "# In Order Traversal\n",
    "print(root.inorder_traversal())\n",
    "\n",
    "# Pre Order Traversal\n",
    "print(root.preorder_traversal())\n",
    "\n",
    "# Post Order Traversal\n",
    "print(root.postorder_traversal())"
   ]
  }
 ],
 "metadata": {
  "kernelspec": {
   "display_name": "interview",
   "language": "python",
   "name": "python3"
  },
  "language_info": {
   "codemirror_mode": {
    "name": "ipython",
    "version": 3
   },
   "file_extension": ".py",
   "mimetype": "text/x-python",
   "name": "python",
   "nbconvert_exporter": "python",
   "pygments_lexer": "ipython3",
   "version": "3.10.13"
  },
  "orig_nbformat": 4
 },
 "nbformat": 4,
 "nbformat_minor": 2
}
