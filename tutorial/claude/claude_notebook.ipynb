{
 "cells": [
  {
   "cell_type": "code",
   "execution_count": 1,
   "metadata": {},
   "outputs": [],
   "source": [
    "import os\n",
    "import anthropic\n",
    "\n"
   ]
  },
  {
   "cell_type": "code",
   "execution_count": 17,
   "metadata": {},
   "outputs": [],
   "source": [
    "def make_request(query, context_size=1000, model_name=\"claude-2.1\", temperature=0):\n",
    "    api_key = os.getenv(\"CLAUDE_KEY\")\n",
    "    if not api_key:\n",
    "        raise KeyError(\"Api Key not found, please set CLAUDE_KEY env variable\")\n",
    "\n",
    "\n",
    "    client = anthropic.Anthropic(\n",
    "        # defaults to os.environ.get(\"ANTHROPIC_API_KEY\")\n",
    "        api_key=api_key\n",
    "    )\n",
    "\n",
    "    message = client.messages.create(\n",
    "        model=model_name,\n",
    "        max_tokens=context_size,\n",
    "        temperature=temperature,\n",
    "        system=\"You are a helpful coding assistant for Rust Programming Language. And believe in providing code as concrete examples to queries\",\n",
    "        messages=[\n",
    "            {\"role\": \"user\", \"content\": f\"{query}\"}\n",
    "        ]\n",
    "    )\n",
    "\n",
    "    return message.content"
   ]
  },
  {
   "cell_type": "code",
   "execution_count": 14,
   "metadata": {},
   "outputs": [],
   "source": [
    "from IPython.display import display, Markdown, Latex\n",
    "\n",
    "def render_test(query):\n",
    "    try:\n",
    "        content = make_request(query)\n",
    "        for content_obj in content:\n",
    "            display(Markdown(content_obj.text))   \n",
    "        make_request(query)\n",
    "    except KeyError as ke:\n",
    "        print(ke)\n",
    "    except Exception as e:\n",
    "        print(e) "
   ]
  },
  {
   "cell_type": "code",
   "execution_count": 18,
   "metadata": {},
   "outputs": [],
   "source": [
    "query = \"Write code to create a tree datastructure and perform inorder traversal\""
   ]
  },
  {
   "cell_type": "code",
   "execution_count": 19,
   "metadata": {},
   "outputs": [
    {
     "data": {
      "text/markdown": [
       "Here is Rust code to create a binary tree data structure and perform inorder traversal on it with tests:\n",
       "\n",
       "```rust\n",
       "use std::rc::Rc;\n",
       "use std::cell::RefCell;\n",
       "\n",
       "#[derive(Debug, PartialEq, Eq)]\n",
       "struct TreeNode {\n",
       "  val: i32,\n",
       "  left: Option<Rc<RefCell<TreeNode>>>,\n",
       "  right: Option<Rc<RefCell<TreeNode>>>,\n",
       "}\n",
       "\n",
       "impl TreeNode {\n",
       "    fn new(val: i32) -> Self {\n",
       "        TreeNode {\n",
       "            val,\n",
       "            left: None,\n",
       "            right: None\n",
       "        }\n",
       "    }\n",
       "    \n",
       "    fn inorder(&self) {\n",
       "        if let Some(ref left) = self.left {\n",
       "            left.borrow().inorder();\n",
       "        }\n",
       "        println!(\"{}, \", self.val);\n",
       "        if let Some(ref right) = self.right {\n",
       "            right.borrow().inorder();\n",
       "        }\n",
       "    }\n",
       "}\n",
       "\n",
       "#[cfg(test)]\n",
       "mod tests {\n",
       "    use super::*;\n",
       "    \n",
       "    #[test]\n",
       "    fn inorder_traversal() {\n",
       "        let mut root = TreeNode::new(1); \n",
       "        let n1 = Rc::new(RefCell::new(TreeNode::new(2)));\n",
       "        root.left = Some(n1.clone());\n",
       "        \n",
       "        let n3 = Rc::new(RefCell::new(TreeNode::new(3))); \n",
       "        root.right = Some(n3);\n",
       "        \n",
       "        n1.borrow_mut().right = Some(n3.clone());\n",
       "        \n",
       "        root.inorder();\n",
       "        // should print 1, 2, 3\n",
       "    }\n",
       "}\n",
       "```\n",
       "\n",
       "The key steps are:\n",
       "\n",
       "1. Define a TreeNode struct to represent each node\n",
       "2. Use Rc and RefCell to enable shared ownership of nodes \n",
       "3. Implement an inorder traversal method\n",
       "4. Write tests to validate inorder traversal\n",
       "\n",
       "Let me know if you have any other questions!"
      ],
      "text/plain": [
       "<IPython.core.display.Markdown object>"
      ]
     },
     "metadata": {},
     "output_type": "display_data"
    }
   ],
   "source": [
    "render_test(query)"
   ]
  }
 ],
 "metadata": {
  "kernelspec": {
   "display_name": "interview",
   "language": "python",
   "name": "python3"
  },
  "language_info": {
   "codemirror_mode": {
    "name": "ipython",
    "version": 3
   },
   "file_extension": ".py",
   "mimetype": "text/x-python",
   "name": "python",
   "nbconvert_exporter": "python",
   "pygments_lexer": "ipython3",
   "version": "3.10.13"
  },
  "orig_nbformat": 4
 },
 "nbformat": 4,
 "nbformat_minor": 2
}
