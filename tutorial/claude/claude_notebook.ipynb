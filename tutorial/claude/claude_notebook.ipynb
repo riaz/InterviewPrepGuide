{
 "cells": [
  {
   "cell_type": "code",
   "execution_count": 1,
   "metadata": {},
   "outputs": [],
   "source": [
    "import os\n",
    "import anthropic\n",
    "\n"
   ]
  },
  {
   "cell_type": "code",
   "execution_count": 17,
   "metadata": {},
   "outputs": [],
   "source": [
    "def make_request(query, context_size=1000, model_name=\"claude-2.1\", temperature=0):\n",
    "    api_key = os.getenv(\"CLAUDE_KEY\")\n",
    "    if not api_key:\n",
    "        raise KeyError(\"Api Key not found, please set CLAUDE_KEY env variable\")\n",
    "\n",
    "\n",
    "    client = anthropic.Anthropic(\n",
    "        # defaults to os.environ.get(\"ANTHROPIC_API_KEY\")\n",
    "        api_key=api_key\n",
    "    )\n",
    "\n",
    "    message = client.messages.create(\n",
    "        model=model_name,\n",
    "        max_tokens=context_size,\n",
    "        temperature=temperature,\n",
    "        system=\"You are a helpful coding assistant for Rust Programming Language. And believe in providing code as concrete examples to queries\",\n",
    "        messages=[\n",
    "            {\"role\": \"user\", \"content\": f\"{query}\"}\n",
    "        ]\n",
    "    )\n",
    "\n",
    "    return message.content"
   ]
  },
  {
   "cell_type": "code",
   "execution_count": 14,
   "metadata": {},
   "outputs": [],
   "source": [
    "from IPython.display import display, Markdown, Latex\n",
    "\n",
    "def render_test(query):\n",
    "    try:\n",
    "        content = make_request(query)\n",
    "        for content_obj in content:\n",
    "            display(Markdown(content_obj.text))   \n",
    "        make_request(query)\n",
    "    except KeyError as ke:\n",
    "        print(ke)\n",
    "    except Exception as e:\n",
    "        print(e) "
   ]
  },
  {
   "cell_type": "code",
   "execution_count": 20,
   "metadata": {},
   "outputs": [],
   "source": [
    "query = \"Write code to create a tree datastructure and perform inorder traversal\""
   ]
  },
  {
   "cell_type": "code",
   "execution_count": 21,
   "metadata": {},
   "outputs": [
    {
     "data": {
      "text/markdown": [
       "Here is Rust code to create a binary tree data structure and perform inorder traversal on it:\n",
       "\n",
       "```rust\n",
       "use std::rc::Rc;\n",
       "use std::cell::RefCell;\n",
       "\n",
       "struct Node {\n",
       "    val: i32,\n",
       "    left: Option<Rc<RefCell<Node>>>,\n",
       "    right: Option<Rc<RefCell<Node>>>,\n",
       "}\n",
       "\n",
       "fn inorder(node: &Option<Rc<RefCell<Node>>>) {\n",
       "    if let Some(n) = node {\n",
       "        inorder(&n.borrow().left);\n",
       "        println!(\"{}\", n.borrow().val);\n",
       "        inorder(&n.borrow().right);\n",
       "    }\n",
       "}\n",
       "\n",
       "fn main() {\n",
       "    let leaf1 = Rc::new(RefCell::new(Node {\n",
       "        val: 3,\n",
       "        left: None,\n",
       "        right: None,\n",
       "    }));\n",
       "\n",
       "    let leaf2 = Rc::new(RefCell::new(Node {\n",
       "        val: 2,\n",
       "        left: None,\n",
       "        right: None,\n",
       "    }));\n",
       "\n",
       "    let root = Rc::new(RefCell::new(Node {\n",
       "        val: 1,\n",
       "        left: Some(Rc::clone(&leaf1)), \n",
       "        right: Some(Rc::clone(&leaf2)),\n",
       "    }));\n",
       "\n",
       "    inorder(&Some(Rc::clone(&root)));\n",
       "}\n",
       "```\n",
       "\n",
       "This creates a simple binary tree and traverses it in inorder, printing out the node values. The nodes are wrapped in `Rc<RefCell<Node>>` to enable shared ownership between parents and children.\n",
       "\n",
       "The key steps are:\n",
       "\n",
       "- Create leaf nodes \n",
       "- Create root node with leaves as children\n",
       "- Traverse recursively with inorder, printing values\n",
       "\n",
       "Let me know if any part needs more explanation!"
      ],
      "text/plain": [
       "<IPython.core.display.Markdown object>"
      ]
     },
     "metadata": {},
     "output_type": "display_data"
    }
   ],
   "source": [
    "render_test(query)"
   ]
  }
 ],
 "metadata": {
  "kernelspec": {
   "display_name": "interview",
   "language": "python",
   "name": "python3"
  },
  "language_info": {
   "codemirror_mode": {
    "name": "ipython",
    "version": 3
   },
   "file_extension": ".py",
   "mimetype": "text/x-python",
   "name": "python",
   "nbconvert_exporter": "python",
   "pygments_lexer": "ipython3",
   "version": "3.10.13"
  },
  "orig_nbformat": 4
 },
 "nbformat": 4,
 "nbformat_minor": 2
}
