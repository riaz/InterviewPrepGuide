{
 "cells": [
  {
   "cell_type": "markdown",
   "metadata": {},
   "source": [
    "### Count Bits"
   ]
  },
  {
   "cell_type": "code",
   "execution_count": 4,
   "metadata": {},
   "outputs": [
    {
     "name": "stdout",
     "output_type": "stream",
     "text": [
      "2\n",
      "3\n"
     ]
    }
   ],
   "source": [
    "def count_bits(x: int) -> int:\n",
    "    \"\"\"\n",
    "    \n",
    "    \"\"\"\n",
    "    count = 0\n",
    "    while x:\n",
    "        count += x & 1\n",
    "        x >>= 1\n",
    "    return count\n",
    "\n",
    "# testing\n",
    "print(count_bits(10))\n",
    "\n",
    "print(count_bits(7))\n"
   ]
  },
  {
   "cell_type": "markdown",
   "metadata": {},
   "source": [
    "### Primitive Types"
   ]
  },
  {
   "cell_type": "code",
   "execution_count": 8,
   "metadata": {},
   "outputs": [
    {
     "name": "stdout",
     "output_type": "stream",
     "text": [
      "12\n",
      "3\n",
      "True\n",
      "-inf inf\n",
      "sys.float_info(max=1.7976931348623157e+308, max_exp=1024, max_10_exp=308, min=2.2250738585072014e-308, min_exp=-1021, min_10_exp=-307, dig=15, mant_dig=53, epsilon=2.220446049250313e-16, radix=2, rounds=1)\n"
     ]
    }
   ],
   "source": [
    "import math\n",
    "import sys\n",
    "\n",
    "print(abs(-12))\n",
    "print(math.ceil(2.174))\n",
    "print(math.isclose(0.23231243214, 0.232312432149)) # this is better way to check closeness\n",
    "\n",
    "# In python integer have infinite precision but not floats\n",
    "print(float('-inf'), float('inf'))\n",
    "print(sys.float_info)"
   ]
  },
  {
   "cell_type": "code",
   "execution_count": 52,
   "metadata": {},
   "outputs": [
    {
     "name": "stdout",
     "output_type": "stream",
     "text": [
      "0.2167715014352246\n",
      "5\n",
      "16\n",
      "Before Shuffle [1, 2, 3, 4, 5]\n",
      "After Shuffle [3, 2, 5, 4, 1]\n",
      "3\n"
     ]
    }
   ],
   "source": [
    "### Checking the random methods available\n",
    "import random\n",
    "\n",
    "print(random.random()) # will be in the range of 0 - 1\n",
    "\n",
    "print(random.randrange(29)) # this will randomly pick a number in the range of 0 to 28\n",
    "\n",
    "print(random.randint(8,16)) # this will pick a random int in the range of 8 to 16\n",
    "\n",
    "# if you have an array A and needs to be shuffled randomly we can use random.shuffle\n",
    "A = [1,2,3,4,5]\n",
    "print(f\"Before Shuffle {A}\")\n",
    "random.shuffle(A)\n",
    "print(f\"After Shuffle {A}\")\n",
    "\n",
    "# returns a randomly selected element from the sequence\n",
    "choosen = random.choice(A)\n",
    "print(choosen)"
   ]
  },
  {
   "cell_type": "code",
   "execution_count": 1,
   "metadata": {},
   "outputs": [],
   "source": [
    "### "
   ]
  }
 ],
 "metadata": {
  "kernelspec": {
   "display_name": "interview",
   "language": "python",
   "name": "python3"
  },
  "language_info": {
   "codemirror_mode": {
    "name": "ipython",
    "version": 3
   },
   "file_extension": ".py",
   "mimetype": "text/x-python",
   "name": "python",
   "nbconvert_exporter": "python",
   "pygments_lexer": "ipython3",
   "version": "3.10.13"
  },
  "orig_nbformat": 4
 },
 "nbformat": 4,
 "nbformat_minor": 2
}
