{
 "cells": [
  {
   "cell_type": "code",
   "execution_count": 1,
   "id": "95cfc350-ed2a-44bf-a490-64d3fec00c4f",
   "metadata": {},
   "outputs": [],
   "source": [
    "### Estimating the value of Pi"
   ]
  },
  {
   "cell_type": "code",
   "execution_count": 2,
   "id": "55359080-af16-4ff5-8e3e-a4609c5ef121",
   "metadata": {},
   "outputs": [
    {
     "name": "stdout",
     "output_type": "stream",
     "text": [
      "Pi is roughly 3.140424\n"
     ]
    }
   ],
   "source": [
    "import random\n",
    "from pyspark import SparkContext\n",
    "\n",
    "# note: the spark context exists as sc\n",
    "\n",
    "def inside(p):\n",
    "    x, y = random.random(), random.random()\n",
    "    return x*x + y*y < 1\n",
    "\n",
    "NUM_SAMPLES = 1000000\n",
    "\n",
    "count = sc.parallelize(range(0, NUM_SAMPLES)).filter(inside).count()\n",
    "\n",
    "print(\"Pi is roughly %f\" % (4.0 * count / NUM_SAMPLES))"
   ]
  },
  {
   "cell_type": "code",
   "execution_count": null,
   "id": "bcbe0e0c-79e7-46a1-b832-97b465cd9268",
   "metadata": {},
   "outputs": [],
   "source": [
    "### Reading a csv file"
   ]
  },
  {
   "cell_type": "code",
   "execution_count": 11,
   "id": "c71cb18b-5907-45f5-859b-aa7df5493ef8",
   "metadata": {},
   "outputs": [],
   "source": [
    "dummy_csv = spark.read.option('inferSchema', 'true').option('header', 'true').csv('data/data.csv')"
   ]
  },
  {
   "cell_type": "code",
   "execution_count": 12,
   "id": "d43fefab-f7d8-4ef7-881c-3d1b85f4bcb8",
   "metadata": {},
   "outputs": [
    {
     "name": "stdout",
     "output_type": "stream",
     "text": [
      "+------+---+------+-------+-----+\n",
      "|  name|age|height|   city|state|\n",
      "+------+---+------+-------+-----+\n",
      "|angela| 32|   160|Concord|   CA|\n",
      "|   joe| 43|   156| Haward|   CA|\n",
      "| elvis| 27|   162|Ontario|   CA|\n",
      "+------+---+------+-------+-----+\n",
      "only showing top 3 rows\n",
      "\n"
     ]
    }
   ],
   "source": [
    "dummy_csv.show(3)"
   ]
  },
  {
   "cell_type": "code",
   "execution_count": 14,
   "id": "d160faab-4e8f-4dad-9ac6-a61e9303d143",
   "metadata": {},
   "outputs": [
    {
     "name": "stdout",
     "output_type": "stream",
     "text": [
      "+------+---+------+-------+-----+\n",
      "|  name|age|height|   city|state|\n",
      "+------+---+------+-------+-----+\n",
      "|   joe| 43|   156| Haward|   CA|\n",
      "|angela| 32|   160|Concord|   CA|\n",
      "| elvis| 27|   162|Ontario|   CA|\n",
      "| nancy| 34|   170| Pomona|   CA|\n",
      "+------+---+------+-------+-----+\n",
      "\n"
     ]
    }
   ],
   "source": [
    "# sorting by their height\n",
    "dummy_csv.sort(\"height\").show(4)"
   ]
  },
  {
   "cell_type": "code",
   "execution_count": 15,
   "id": "88055663-ef4e-403e-8941-26f304e4faff",
   "metadata": {},
   "outputs": [],
   "source": [
    "### Running SQL Statement"
   ]
  },
  {
   "cell_type": "code",
   "execution_count": 16,
   "id": "c32f00bb-ea0e-400f-a832-c98dca76c566",
   "metadata": {},
   "outputs": [],
   "source": [
    "# Creating a table from dataframe to run sql\n",
    "dummy_csv.createOrReplaceTempView(\"basic_table\")"
   ]
  },
  {
   "cell_type": "code",
   "execution_count": 17,
   "id": "870682bf-e398-4ca2-bce2-aef2556650d7",
   "metadata": {},
   "outputs": [],
   "source": [
    "sql_code = spark.sql(\"SELECT name, age, height from basic_table WHERE age >= 32\")"
   ]
  },
  {
   "cell_type": "code",
   "execution_count": 18,
   "id": "2546ed61-5660-4f5d-be27-5a5430a01efb",
   "metadata": {},
   "outputs": [
    {
     "name": "stdout",
     "output_type": "stream",
     "text": [
      "+------+---+------+\n",
      "|  name|age|height|\n",
      "+------+---+------+\n",
      "|angela| 32|   160|\n",
      "|   joe| 43|   156|\n",
      "| nancy| 34|   170|\n",
      "+------+---+------+\n",
      "\n"
     ]
    }
   ],
   "source": [
    "sql_code.show()"
   ]
  },
  {
   "cell_type": "code",
   "execution_count": 20,
   "id": "6b036c0b-175f-486b-993b-44374f1b1cf7",
   "metadata": {},
   "outputs": [
    {
     "name": "stdout",
     "output_type": "stream",
     "text": [
      "+-----+-----+\n",
      "|state|count|\n",
      "+-----+-----+\n",
      "|   CA|    4|\n",
      "+-----+-----+\n",
      "\n"
     ]
    }
   ],
   "source": [
    "### Using groupby to find the number of people who live in the state of california\n",
    "sql_code = dummy_csv.groupBy('state').count()\n",
    "sql_code.show()"
   ]
  },
  {
   "cell_type": "code",
   "execution_count": 35,
   "id": "fdb1ece8-ef9d-4220-a70d-23355210c7f0",
   "metadata": {},
   "outputs": [
    {
     "name": "stdout",
     "output_type": "stream",
     "text": [
      "root\n",
      " |-- name: string (nullable = true)\n",
      " |-- age: integer (nullable = true)\n",
      " |-- height: integer (nullable = true)\n",
      " |-- city: string (nullable = true)\n",
      " |-- state: string (nullable = true)\n",
      "\n"
     ]
    }
   ],
   "source": [
    "dummy_csv.printSchema()"
   ]
  },
  {
   "cell_type": "code",
   "execution_count": 37,
   "id": "cd1f66fe-d667-47d7-957a-70b7f8d36aba",
   "metadata": {},
   "outputs": [
    {
     "ename": "ModuleNotFoundError",
     "evalue": "No module named 'sparkdl'",
     "output_type": "error",
     "traceback": [
      "\u001b[0;31m---------------------------------------------------------------------------\u001b[0m",
      "\u001b[0;31mModuleNotFoundError\u001b[0m                       Traceback (most recent call last)",
      "Cell \u001b[0;32mIn[37], line 1\u001b[0m\n\u001b[0;32m----> 1\u001b[0m \u001b[38;5;28;01mimport\u001b[39;00m \u001b[38;5;21;01msparkdl\u001b[39;00m\n",
      "\u001b[0;31mModuleNotFoundError\u001b[0m: No module named 'sparkdl'"
     ]
    }
   ],
   "source": [
    "# Pyspark with graphframes\n",
    "#/opt/spark/bin/spark-shell --packages graphframes:graphframes:0.8.2-spark3.2-s_2.12"
   ]
  },
  {
   "cell_type": "code",
   "execution_count": null,
   "id": "5172ed6b-9efd-4574-bdaf-5a4f875d50d6",
   "metadata": {},
   "outputs": [],
   "source": []
  }
 ],
 "metadata": {
  "kernelspec": {
   "display_name": "Python 3 (ipykernel)",
   "language": "python",
   "name": "python3"
  },
  "language_info": {
   "codemirror_mode": {
    "name": "ipython",
    "version": 3
   },
   "file_extension": ".py",
   "mimetype": "text/x-python",
   "name": "python",
   "nbconvert_exporter": "python",
   "pygments_lexer": "ipython3",
   "version": "3.10.13"
  }
 },
 "nbformat": 4,
 "nbformat_minor": 5
}
