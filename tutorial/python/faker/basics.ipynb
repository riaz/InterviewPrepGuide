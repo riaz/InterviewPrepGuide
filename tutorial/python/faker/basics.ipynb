{
 "cells": [
  {
   "cell_type": "code",
   "execution_count": 1,
   "metadata": {},
   "outputs": [],
   "source": [
    "from faker import Faker"
   ]
  },
  {
   "cell_type": "code",
   "execution_count": 2,
   "metadata": {},
   "outputs": [],
   "source": [
    "fake = Faker()"
   ]
  },
  {
   "cell_type": "code",
   "execution_count": 6,
   "metadata": {},
   "outputs": [
    {
     "name": "stdout",
     "output_type": "stream",
     "text": [
      "Name Derrick Fisher\n",
      "Email qgay@example.com\n",
      "Text Themselves thing leg tree. Family try floor finally able leader. Music lot each series.\n",
      "Require a huge either. Program happy attorney debate. Pm memory wide thousand design attention.\n"
     ]
    }
   ],
   "source": [
    "print(\"Name\", fake.name())\n",
    "print(\"Email\", fake.email())\n",
    "print(\"Text\", fake.text())\n",
    "print(\"Address\", fake.address())"
   ]
  }
 ],
 "metadata": {
  "kernelspec": {
   "display_name": "interview",
   "language": "python",
   "name": "python3"
  },
  "language_info": {
   "codemirror_mode": {
    "name": "ipython",
    "version": 3
   },
   "file_extension": ".py",
   "mimetype": "text/x-python",
   "name": "python",
   "nbconvert_exporter": "python",
   "pygments_lexer": "ipython3",
   "version": "3.10.13"
  },
  "orig_nbformat": 4
 },
 "nbformat": 4,
 "nbformat_minor": 2
}
