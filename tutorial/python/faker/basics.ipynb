{
 "cells": [
  {
   "cell_type": "code",
   "execution_count": 1,
   "metadata": {},
   "outputs": [],
   "source": [
    "from faker import Faker"
   ]
  },
  {
   "cell_type": "code",
   "execution_count": 2,
   "metadata": {},
   "outputs": [],
   "source": [
    "fake = Faker()"
   ]
  },
  {
   "cell_type": "code",
   "execution_count": 7,
   "metadata": {},
   "outputs": [
    {
     "name": "stdout",
     "output_type": "stream",
     "text": [
      "Name Brian Gardner\n",
      "Email rodriguezshane@example.net\n",
      "Text Stop off actually good camera huge I. Building condition television accept.\n",
      "Base head carry statement. Doctor inside during leader level need term idea.\n",
      "Address 26054 Cline Turnpike Apt. 973\n",
      "New Daryl, MT 28204\n"
     ]
    }
   ],
   "source": [
    "print(\"Name\", fake.name())\n",
    "print(\"Email\", fake.email())\n",
    "print(\"Text\", fake.text())\n",
    "print(\"Address\", fake.address())"
   ]
  },
  {
   "cell_type": "code",
   "execution_count": null,
   "metadata": {},
   "outputs": [],
   "source": []
  }
 ],
 "metadata": {
  "kernelspec": {
   "display_name": "interview",
   "language": "python",
   "name": "python3"
  },
  "language_info": {
   "codemirror_mode": {
    "name": "ipython",
    "version": 3
   },
   "file_extension": ".py",
   "mimetype": "text/x-python",
   "name": "python",
   "nbconvert_exporter": "python",
   "pygments_lexer": "ipython3",
   "version": "3.10.13"
  },
  "orig_nbformat": 4
 },
 "nbformat": 4,
 "nbformat_minor": 2
}
