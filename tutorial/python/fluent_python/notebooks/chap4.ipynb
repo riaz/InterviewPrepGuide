{
 "cells": [
  {
   "cell_type": "markdown",
   "metadata": {},
   "source": [
    "# Unicide Text vs Bytes"
   ]
  },
  {
   "cell_type": "code",
   "execution_count": 3,
   "metadata": {},
   "outputs": [
    {
     "name": "stdout",
     "output_type": "stream",
     "text": [
      "4 café\n",
      "5 b'caf\\xc3\\xa9'\n",
      "4 café\n"
     ]
    }
   ],
   "source": [
    "### encoding an decoding\n",
    "s = 'café'\n",
    "print(len(s), s)\n",
    "\n",
    "encode_s = s.encode('utf8')\n",
    "print(len(encode_s), encode_s)\n",
    "\n",
    "decode_s = encode_s.decode('utf8')\n",
    "print(len(decode_s), decode_s)"
   ]
  },
  {
   "cell_type": "code",
   "execution_count": 11,
   "metadata": {},
   "outputs": [
    {
     "name": "stdout",
     "output_type": "stream",
     "text": [
      "b'caf\\xc3\\xa9' 5\n",
      "99\n",
      "bytearray(b'caf\\xc3\\xa9') 5\n",
      "99\n",
      "bytearray(b'Aaf\\xc3\\xa9') 5\n",
      "Aafé\n"
     ]
    }
   ],
   "source": [
    "## byte (immutable) vs bytearray (mutable)\n",
    "\n",
    "cafe = bytes('café', encoding='utf8')\n",
    "print(cafe, len(cafe))\n",
    "print(cafe[0])\n",
    "\n",
    "cafe_arr = bytearray('café', encoding='utf8')\n",
    "\n",
    "print(cafe_arr, len(cafe_arr))\n",
    "print(cafe_arr[0])\n",
    "\n",
    "cafe_arr[0] = 65 # mutating\n",
    "print(cafe_arr, len(cafe_arr))\n",
    "\n",
    "print(cafe_arr.decode('utf-8'))"
   ]
  },
  {
   "cell_type": "code",
   "execution_count": 12,
   "metadata": {},
   "outputs": [
    {
     "name": "stdout",
     "output_type": "stream",
     "text": [
      "latin_1 b'El Ni\\xf1o'\n",
      "utf_8 b'El Ni\\xc3\\xb1o'\n",
      "utf_16 b'\\xff\\xfeE\\x00l\\x00 \\x00N\\x00i\\x00\\xf1\\x00o\\x00'\n"
     ]
    }
   ],
   "source": [
    "# Basic Encoder and Decoders\n",
    "for codec in ['latin_1', 'utf_8', 'utf_16']:\n",
    "    print(codec, 'El Niño'.encode(codec))"
   ]
  },
  {
   "cell_type": "code",
   "execution_count": 14,
   "metadata": {},
   "outputs": [],
   "source": [
    "# Reading files\n",
    "with open(\"files/cafe.txt\", 'w', encoding='utf8') as fw:\n",
    "    fw.write('café')"
   ]
  },
  {
   "cell_type": "code",
   "execution_count": 15,
   "metadata": {},
   "outputs": [
    {
     "name": "stdout",
     "output_type": "stream",
     "text": [
      "café\n"
     ]
    }
   ],
   "source": [
    "with open(\"files/cafe.txt\", 'r', encoding='utf8') as fs:\n",
    "    print(fs.read())"
   ]
  },
  {
   "cell_type": "code",
   "execution_count": 16,
   "metadata": {},
   "outputs": [
    {
     "name": "stdout",
     "output_type": "stream",
     "text": [
      "5\n"
     ]
    }
   ],
   "source": [
    "# getting the number of bytes occupied by the text in cafe.txt\n",
    "import os\n",
    "print(os.stat(\"files/cafe.txt\").st_size) # note: that the last special character occupies two bytes hence 5"
   ]
  },
  {
   "cell_type": "code",
   "execution_count": 18,
   "metadata": {},
   "outputs": [
    {
     "name": "stdout",
     "output_type": "stream",
     "text": [
      "<_io.TextIOWrapper name='files/cafe.txt' mode='r' encoding='UTF-8'>\n"
     ]
    }
   ],
   "source": [
    "# getting the default encoding in Mac Book - happens to be utf-8\n",
    "fp = open('files/cafe.txt')\n",
    "print(fp)"
   ]
  },
  {
   "cell_type": "code",
   "execution_count": 21,
   "metadata": {},
   "outputs": [
    {
     "name": "stdout",
     "output_type": "stream",
     "text": [
      "pt_BR.UTF-8\n",
      "['açaí', 'acerola', 'atemonia', 'cajá', 'caju']\n"
     ]
    }
   ],
   "source": [
    "## Sorting unicode text\n",
    "# The standard way to sort non-ascii text in python is to use the locale.strxfrm - it transform the string to local aware component\n",
    "\n",
    "import locale\n",
    "\n",
    "my_locale = locale.setlocale(locale.LC_COLLATE, 'pt_BR.UTF-8')\n",
    "\n",
    "print(my_locale)\n",
    "\n",
    "fruits = ['caju', 'atemonia', 'cajá', 'açaí', 'acerola']\n",
    "\n",
    "sorted_fruits = sorted(fruits, key=locale.strxfrm)\n",
    "\n",
    "print(sorted_fruits)"
   ]
  },
  {
   "cell_type": "code",
   "execution_count": 22,
   "metadata": {},
   "outputs": [
    {
     "name": "stdout",
     "output_type": "stream",
     "text": [
      "Collecting pyuca\n",
      "  Downloading pyuca-1.2-py2.py3-none-any.whl (1.5 MB)\n",
      "\u001b[2K     \u001b[90m━━━━━━━━━━━━━━━━━━━━━━━━━━━━━━━━━━━━━━━━\u001b[0m \u001b[32m1.5/1.5 MB\u001b[0m \u001b[31m18.2 MB/s\u001b[0m eta \u001b[36m0:00:00\u001b[0ma \u001b[36m0:00:01\u001b[0m\n",
      "\u001b[?25hInstalling collected packages: pyuca\n",
      "Successfully installed pyuca-1.2\n"
     ]
    }
   ],
   "source": [
    "!pip install pyuca"
   ]
  },
  {
   "cell_type": "code",
   "execution_count": 23,
   "metadata": {},
   "outputs": [
    {
     "name": "stdout",
     "output_type": "stream",
     "text": [
      "['açaí', 'acerola', 'atemonia', 'cajá', 'caju']\n"
     ]
    }
   ],
   "source": [
    "# Unicode Collation Algorithm\n",
    "import pyuca\n",
    "coll = pyuca.Collator()\n",
    "\n",
    "sorted_fruits = sorted(fruits, key=coll.sort_key)\n",
    "print(sorted_fruits)"
   ]
  },
  {
   "cell_type": "code",
   "execution_count": 24,
   "metadata": {},
   "outputs": [
    {
     "name": "stdout",
     "output_type": "stream",
     "text": [
      "LATIN CAPITAL LETTER A\n",
      "LATIN SMALL LETTER A WITH ACUTE\n"
     ]
    }
   ],
   "source": [
    "# The unicode database\n",
    "# we can use the modules to retrieve character metadata\n",
    "\n",
    "from unicodedata import name\n",
    "\n",
    "print(name('A'))\n",
    "\n",
    "print(name('á'))\n"
   ]
  },
  {
   "cell_type": "code",
   "execution_count": 28,
   "metadata": {},
   "outputs": [
    {
     "name": "stdout",
     "output_type": "stream",
     "text": [
      "Text\t'Ramanujan saw ௧௭௨௯ as 1729 = 1^3 + 12^3 = 9^3 + 10^3.'\n",
      "Numbers\n",
      "str ['௧௭௨௯', '1729', '1', '3', '12', '3', '9', '3', '10', '3']\n",
      "bytes [b'1729', b'1', b'3', b'12', b'3', b'9', b'3', b'10', b'3']\n",
      "String\n",
      "str ['Ramanujan', 'saw', '௧௭௨௯', 'as', '1729', '1', '3', '12', '3', '9', '3', '10', '3']\n",
      "bytes [b'Ramanujan', b'saw', b'as', b'1729', b'1', b'3', b'12', b'3', b'9', b'3', b'10', b'3']\n"
     ]
    }
   ],
   "source": [
    "# String vs Bytes in Regex\n",
    "\"\"\" \n",
    " When building a regex for bytes - its matched with ascii characters\n",
    " When building regex for string - its matched with unicode/ascii\n",
    "\"\"\"\n",
    "\n",
    "import re\n",
    "\n",
    "re_number_str = re.compile(r'\\d+')\n",
    "re_words_str = re.compile(r'\\w+')\n",
    "re_number_bytes = re.compile(rb'\\d+')\n",
    "re_words_bytes = re.compile(rb'\\w+')\n",
    "\n",
    "text_str = ('Ramanujan saw \\u0be7\\u0bed\\u0be8\\u0bef as 1729 = 1^3 + 12^3 = 9^3 + 10^3.')\n",
    "\n",
    "text_bytes = text_str.encode('utf8')\n",
    "\n",
    "print(f\"Text\\t{text_str!r}\")\n",
    "print('Numbers')\n",
    "print('str', re_number_str.findall(text_str))\n",
    "print('bytes', re_number_bytes.findall(text_bytes))\n",
    "\n",
    "print('String')\n",
    "print('str', re_words_str.findall(text_str))\n",
    "print('bytes', re_words_bytes.findall(text_bytes))"
   ]
  }
 ],
 "metadata": {
  "kernelspec": {
   "display_name": "interview",
   "language": "python",
   "name": "python3"
  },
  "language_info": {
   "codemirror_mode": {
    "name": "ipython",
    "version": 3
   },
   "file_extension": ".py",
   "mimetype": "text/x-python",
   "name": "python",
   "nbconvert_exporter": "python",
   "pygments_lexer": "ipython3",
   "version": "3.10.13"
  },
  "orig_nbformat": 4
 },
 "nbformat": 4,
 "nbformat_minor": 2
}
