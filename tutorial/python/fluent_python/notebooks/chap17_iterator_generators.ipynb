{
 "cells": [
  {
   "cell_type": "code",
   "execution_count": null,
   "metadata": {},
   "outputs": [],
   "source": [
    "### Custom Word Iterator - Sentance"
   ]
  },
  {
   "cell_type": "code",
   "execution_count": 1,
   "metadata": {},
   "outputs": [
    {
     "name": "stdout",
     "output_type": "stream",
     "text": [
      "The\n",
      "time\n",
      "has\n",
      "come\n",
      "the\n",
      "Walrus\n",
      "said\n"
     ]
    }
   ],
   "source": [
    "import re\n",
    "import reprlib\n",
    "\n",
    "RE_WORD = re.compile(f'\\w+')\n",
    "\n",
    "class Sentence:\n",
    "    def __init__(self, text):\n",
    "        self.text = text\n",
    "        self.words = RE_WORD.findall(text)\n",
    "\n",
    "    def __getitem__(self, index):\n",
    "        return self.words[index]\n",
    "    \n",
    "    def __len__(self):\n",
    "        return len(self.words)\n",
    "    \n",
    "    def __repr__(self):\n",
    "        return 'Sentences(%s)' % reprlib.repr(self.text)\n",
    "    \n",
    "s = Sentence('\"The time has come,\" the Walrus said.')\n",
    "\n",
    "for word in s:\n",
    "    print(word)"
   ]
  },
  {
   "cell_type": "code",
   "execution_count": 6,
   "metadata": {},
   "outputs": [
    {
     "name": "stdout",
     "output_type": "stream",
     "text": [
      "0\n",
      "[]\n",
      "True\n",
      "True\n"
     ]
    }
   ],
   "source": [
    "# Duct typing - lets you declaring one special method, and auto-create the other necessary methods of that type\n",
    "# example: for a class object to be iterable - it either needs __iter__ function or __getitem__ , but both can be defined.\n",
    "\n",
    "\n",
    "class Spam:\n",
    "    \"\"\"\n",
    "    In this class, we are free to not define any list, but have a special method - __getitem__\n",
    "    \"\"\"\n",
    "\n",
    "    def __getitem__(self, index):\n",
    "        # oops this is by mistake\n",
    "        print(index)\n",
    "        raise IndexError()\n",
    "    \n",
    "\n",
    "spam_obj = Spam()\n",
    "\n",
    "iter(spam_obj)\n",
    "\n",
    "print(list(spam_obj))\n",
    "\n",
    "from collections import abc\n",
    "isinstance(spam_obj, abc.Iterable)\n",
    "\n",
    "# Note: while spam_obj is iterable, its not an instance of abc.Iterable since that would require explicit declaration of __iter__\n",
    "# method and of-course subclass an iterable\n",
    "\n",
    "class GooseSpam:\n",
    "    def __iter__(self):\n",
    "        pass\n",
    "\n",
    "from collections import abc\n",
    "\n",
    "# the class itself is an subclass of Iterable\n",
    "print(issubclass(GooseSpam, abc.Iterable))\n",
    "\n",
    "#the instance will be instance of abc.Iterable\n",
    "\n",
    "goose_obj = GooseSpam()\n",
    "\n",
    "print(isinstance(goose_obj, abc.Iterable))\n"
   ]
  },
  {
   "cell_type": "code",
   "execution_count": 9,
   "metadata": {},
   "outputs": [
    {
     "name": "stdout",
     "output_type": "stream",
     "text": [
      "I am a human thinker\n",
      "I am a AI thinker\n",
      "your object has the size 3\n",
      "your object has the size 1\n",
      "your object has the size 5\n"
     ]
    }
   ],
   "source": [
    "### Goose-Typing vs Duck Typing\n",
    "\"\"\" \n",
    "Duck Typing:\n",
    "    -> Dynamic Typing\n",
    "    -> The type check doesnt care about the subclass type but presence of specific methods\n",
    "    -> eg: class Human think() and AI think() make them equivalent due to presence of think()\n",
    "    -> If you can think, you are a human (if u quack like a duck, you are a duck)\n",
    "\n",
    "Goose Typing:\n",
    "    -> Related to structural typing (Protocol / Interfaces)\n",
    "    -> If a class can do x, what is its type -> vs the inverse in case of Duck Typing.\n",
    " \"\"\"\n",
    "\n",
    "\n",
    "# Duck typing example\n",
    "\n",
    "class Human:\n",
    "    def think(self):\n",
    "        print(\"I am a human thinker\")\n",
    "\n",
    "class AI:\n",
    "    def think(self):\n",
    "        print(\"I am a AI thinker\")\n",
    "\n",
    "def think_processor(engine):\n",
    "    engine.think()\n",
    "\n",
    "human = Human()\n",
    "ai = AI()\n",
    "\n",
    "think_processor(human)\n",
    "think_processor(ai)\n",
    "\n",
    "# Testing goose type\n",
    "\n",
    "from collections.abc import Sized\n",
    "\n",
    "def size_matters(matter):\n",
    "    print(f\"your object has the size {len(matter)}\")\n",
    "\n",
    "# All these 3 types has size\n",
    "size_matters([1,2,3])\n",
    "size_matters({\"hello\": \"world\"})\n",
    "size_matters(\"Hello\")"
   ]
  },
  {
   "cell_type": "code",
   "execution_count": null,
   "metadata": {},
   "outputs": [],
   "source": [
    "### Using Iter with Callable"
   ]
  },
  {
   "cell_type": "code",
   "execution_count": null,
   "metadata": {},
   "outputs": [],
   "source": []
  }
 ],
 "metadata": {
  "kernelspec": {
   "display_name": "interview",
   "language": "python",
   "name": "python3"
  },
  "language_info": {
   "codemirror_mode": {
    "name": "ipython",
    "version": 3
   },
   "file_extension": ".py",
   "mimetype": "text/x-python",
   "name": "python",
   "nbconvert_exporter": "python",
   "pygments_lexer": "ipython3",
   "version": "3.10.13"
  },
  "orig_nbformat": 4
 },
 "nbformat": 4,
 "nbformat_minor": 2
}
