{
 "cells": [
  {
   "cell_type": "code",
   "execution_count": null,
   "metadata": {},
   "outputs": [],
   "source": [
    "### Functions as first class objects"
   ]
  },
  {
   "cell_type": "code",
   "execution_count": null,
   "metadata": {},
   "outputs": [],
   "source": [
    "# using __call__ as part of a class to make it callable"
   ]
  },
  {
   "cell_type": "code",
   "execution_count": 1,
   "metadata": {},
   "outputs": [],
   "source": [
    "import random\n",
    "\n",
    "class BingoCage:\n",
    "\n",
    "    def __init__(self, lst):\n",
    "        self._lst = lst\n",
    "        random.shuffle(self._lst)\n",
    "\n",
    "    def pick(self):\n",
    "        try:\n",
    "            return self._lst.pop()\n",
    "        except IndexError:\n",
    "            raise LookupError(\"picked from empty BingoCage\")\n",
    "    \n",
    "    def __call__(self):\n",
    "        return self.pick()"
   ]
  },
  {
   "cell_type": "code",
   "execution_count": 3,
   "metadata": {},
   "outputs": [],
   "source": [
    "bingo = BingoCage(list(range(20)))"
   ]
  },
  {
   "cell_type": "code",
   "execution_count": 4,
   "metadata": {},
   "outputs": [
    {
     "data": {
      "text/plain": [
       "14"
      ]
     },
     "execution_count": 4,
     "metadata": {},
     "output_type": "execute_result"
    }
   ],
   "source": [
    "bingo.pick() # this is the normal way to invoke a class method"
   ]
  },
  {
   "cell_type": "code",
   "execution_count": 5,
   "metadata": {},
   "outputs": [
    {
     "data": {
      "text/plain": [
       "6"
      ]
     },
     "execution_count": 5,
     "metadata": {},
     "output_type": "execute_result"
    }
   ],
   "source": [
    "# since we defined the special method called __call__ we can call the object directly\n",
    "bingo()"
   ]
  },
  {
   "cell_type": "code",
   "execution_count": 6,
   "metadata": {},
   "outputs": [
    {
     "data": {
      "text/plain": [
       "12"
      ]
     },
     "execution_count": 6,
     "metadata": {},
     "output_type": "execute_result"
    }
   ],
   "source": [
    "bingo()"
   ]
  },
  {
   "cell_type": "code",
   "execution_count": 7,
   "metadata": {},
   "outputs": [
    {
     "data": {
      "text/plain": [
       "17"
      ]
     },
     "execution_count": 7,
     "metadata": {},
     "output_type": "execute_result"
    }
   ],
   "source": [
    "len(bingo._lst)"
   ]
  },
  {
   "cell_type": "code",
   "execution_count": 8,
   "metadata": {},
   "outputs": [
    {
     "data": {
      "text/plain": [
       "('hello', <function abs(x, /)>, 1.0)"
      ]
     },
     "execution_count": 8,
     "metadata": {},
     "output_type": "execute_result"
    }
   ],
   "source": [
    "## We can figure if a object is callable/function or not using the callable function\n",
    "\n",
    "'hello', abs, 1.0"
   ]
  },
  {
   "cell_type": "code",
   "execution_count": 10,
   "metadata": {},
   "outputs": [
    {
     "data": {
      "text/plain": [
       "[True, True, False]"
      ]
     },
     "execution_count": 10,
     "metadata": {},
     "output_type": "execute_result"
    }
   ],
   "source": [
    "[callable(x) for x in (str, abs, 1.0)]"
   ]
  },
  {
   "cell_type": "code",
   "execution_count": 11,
   "metadata": {},
   "outputs": [],
   "source": [
    "## Building in functions like any and all\n",
    "\n",
    "assert all([False, False, True]) == False\n",
    "\n",
    "assert all([True, True, True]) == True\n",
    "\n",
    "assert any([False, False, False]) == False\n",
    "\n",
    "assert any([False, False, True]) == True"
   ]
  },
  {
   "cell_type": "code",
   "execution_count": 12,
   "metadata": {},
   "outputs": [],
   "source": [
    "### From position to keyword only params\n",
    "\n",
    "def tag(name, *content, class_=None, **attrs):\n",
    "    \"\"\"\n",
    "        This is a tagger of html objects \n",
    "        *content -> is used to pass iterative values\n",
    "        *attb -> is used to pass mapping\n",
    "    \"\"\"\n",
    "    if class_ is not None:\n",
    "        attrs['class'] = class_\n",
    "\n",
    "    attr_pairs = ''.join([f' {attr}=\"{value}\"' for attr, value in attrs.items()])\n",
    "    \n",
    "    if content:\n",
    "        elements = [f'<{name} {attr_pairs}>{c}</{name}>' for c in content]\n",
    "        return '\\n'.join(elements)\n",
    "    else:\n",
    "        return f\"<{name} {attr_pairs} />\""
   ]
  },
  {
   "cell_type": "code",
   "execution_count": 15,
   "metadata": {},
   "outputs": [
    {
     "name": "stdout",
     "output_type": "stream",
     "text": [
      "<br  />\n",
      "<p >hello</p>\n",
      "<p >world</p>\n",
      "<h1  href=\"http://appliedllms.com\" onclick=\"show browser()\" class=\"demo\">www.appliedllms.com</h1>\n",
      "<img  title=\"Sunset Boulevard\" src=\"sunset.jpg\" class=\"framed\" />\n"
     ]
    }
   ],
   "source": [
    "print(tag('br'))\n",
    "\n",
    "print(tag('p', 'hello', 'world'))\n",
    "\n",
    "print(tag('h1', 'www.appliedllms.com', class_='demo', href='http://appliedllms.com', onclick='show browser()'))\n",
    "\n",
    "my_tag = {\n",
    "    'name': 'img',\n",
    "    'title': 'Sunset Boulevard',\n",
    "    'src': 'sunset.jpg',\n",
    "    'class': 'framed'\n",
    "}\n",
    "\n",
    "print(tag(**my_tag))"
   ]
  },
  {
   "cell_type": "code",
   "execution_count": 16,
   "metadata": {},
   "outputs": [],
   "source": [
    "###Postional only params\n",
    "\n",
    "def divmod(a, b, /):\n",
    "    \"\"\"\n",
    "        / is used to mark position only params\n",
    "    \"\"\"\n",
    "    return (a // b, a % b)"
   ]
  },
  {
   "cell_type": "code",
   "execution_count": null,
   "metadata": {},
   "outputs": [],
   "source": [
    "# Packages for functional programming"
   ]
  },
  {
   "cell_type": "code",
   "execution_count": 18,
   "metadata": {},
   "outputs": [
    {
     "name": "stdout",
     "output_type": "stream",
     "text": [
      "120\n",
      "120\n"
     ]
    }
   ],
   "source": [
    "# we have sum for summing collections but what are ways for mul\n",
    "\n",
    "from functools import reduce\n",
    "from operator import mul\n",
    "\n",
    "def factorial(n):\n",
    "    return reduce(lambda a,b : a * b, range(1, n+1))\n",
    "\n",
    "print(factorial(5))\n",
    "\n",
    "# now trying the operator that python provides\n",
    "\n",
    "def factorial_op(n):\n",
    "    return reduce(mul, range(1, n+1))\n",
    "\n",
    "print(factorial_op(5))"
   ]
  },
  {
   "cell_type": "code",
   "execution_count": 22,
   "metadata": {},
   "outputs": [
    {
     "name": "stdout",
     "output_type": "stream",
     "text": [
      "('Bangkok', 'Thailand', 'Baht')\n",
      "('New Delhi', 'India', 'Rupee')\n",
      "('Tokyo', 'Japan', 'Yen')\n"
     ]
    }
   ],
   "source": [
    "# itemgetter is another example of an operator\n",
    "# following is an exampling of sorting based on a column value in the tuples\n",
    "\n",
    "from operator import itemgetter\n",
    "\n",
    "records = [\n",
    "    ('Tokyo', 'Japan', 'Yen'),\n",
    "    ('New Delhi', 'India', 'Rupee'),    \n",
    "    ('Bangkok', 'Thailand', 'Baht')\n",
    "]\n",
    "\n",
    "for record in sorted(records, key=itemgetter(2)): # we are sorting by currency name\n",
    "    print(record)"
   ]
  },
  {
   "cell_type": "code",
   "execution_count": 23,
   "metadata": {},
   "outputs": [],
   "source": [
    "### Freezing arguments with functools partial\n",
    "# if we need to make sure a returned callable does a specific op\n",
    "\n",
    "from functools import partial\n",
    "\n",
    "triple = partial(mul, 3) # triple is a callable that multiplies anything by 3\n",
    "\n",
    "assert callable(triple) == True\n",
    "\n",
    "assert triple(33) == 99"
   ]
  }
 ],
 "metadata": {
  "kernelspec": {
   "display_name": "interview",
   "language": "python",
   "name": "python3"
  },
  "language_info": {
   "codemirror_mode": {
    "name": "ipython",
    "version": 3
   },
   "file_extension": ".py",
   "mimetype": "text/x-python",
   "name": "python",
   "nbconvert_exporter": "python",
   "pygments_lexer": "ipython3",
   "version": "3.10.13"
  },
  "orig_nbformat": 4
 },
 "nbformat": 4,
 "nbformat_minor": 2
}
