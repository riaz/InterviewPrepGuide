{
 "cells": [
  {
   "cell_type": "code",
   "execution_count": 1,
   "metadata": {},
   "outputs": [
    {
     "data": {
      "text/plain": [
       "'\\nEg:\\ncollections.namedtuple\\ntyping.NamedTuple (close to typing.TypeDict - cannot be instatiated but used for type hint for func params)\\n    - alternative to above with type hinting\\n@dataclass.dataclass\\n    - more customization that a tuple\\n\\n'"
      ]
     },
     "execution_count": 1,
     "metadata": {},
     "output_type": "execute_result"
    }
   ],
   "source": [
    "#Data class builders\n",
    "# these are data structures that act as collection of fields\n",
    "\n",
    "\"\"\"\n",
    "Eg:\n",
    "collections.namedtuple\n",
    "typing.NamedTuple (close to typing.TypeDict - cannot be instatiated but used for type hint for func params)\n",
    "    - alternative to above with type hinting\n",
    "@dataclass.dataclass\n",
    "    - more customization that a tuple\n",
    "\n",
    "\"\"\""
   ]
  },
  {
   "cell_type": "code",
   "execution_count": 4,
   "metadata": {},
   "outputs": [
    {
     "data": {
      "text/plain": [
       "True"
      ]
     },
     "execution_count": 4,
     "metadata": {},
     "output_type": "execute_result"
    }
   ],
   "source": [
    "class Coordinate:\n",
    "    def __init__(self, lat: int, long: int) -> None:\n",
    "        self.lat = lat\n",
    "        self.long = long\n",
    "\n",
    "moscow = Coordinate(55.33,33.44)\n",
    "\n",
    "location = Coordinate(55.33,33.44)\n",
    "\n",
    "assert moscow != location # different references\n",
    "\n",
    "assert (moscow.lat, moscow.long) == (location.lat, location.long)"
   ]
  },
  {
   "cell_type": "code",
   "execution_count": 5,
   "metadata": {},
   "outputs": [
    {
     "name": "stdout",
     "output_type": "stream",
     "text": [
      "Coordinate(lat=23.33, long=22.33)\n"
     ]
    }
   ],
   "source": [
    "# names tuple is a subclass of tuple\n",
    "from collections import namedtuple\n",
    "\n",
    "Coordinate = namedtuple('Coordinate', 'lat long')\n",
    "\n",
    "moscow = Coordinate(lat=23.33, long=22.33)\n",
    "\n",
    "print(moscow)"
   ]
  }
 ],
 "metadata": {
  "kernelspec": {
   "display_name": "interview",
   "language": "python",
   "name": "python3"
  },
  "language_info": {
   "codemirror_mode": {
    "name": "ipython",
    "version": 3
   },
   "file_extension": ".py",
   "mimetype": "text/x-python",
   "name": "python",
   "nbconvert_exporter": "python",
   "pygments_lexer": "ipython3",
   "version": "3.10.13"
  },
  "orig_nbformat": 4
 },
 "nbformat": 4,
 "nbformat_minor": 2
}
