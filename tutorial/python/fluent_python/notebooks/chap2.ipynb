{
 "cells": [
  {
   "cell_type": "code",
   "execution_count": null,
   "metadata": {},
   "outputs": [],
   "source": [
    "# here abc stands for abstract base class\n",
    "from collections import abc\n",
    "\n",
    "assert issubclass(tuple, abc.Sequence)\n",
    "\n",
    "assert issubclass(list, abc.MutableSequence)"
   ]
  },
  {
   "cell_type": "code",
   "execution_count": 2,
   "metadata": {},
   "outputs": [
    {
     "name": "stdout",
     "output_type": "stream",
     "text": [
      "[65, 66, 67]\n"
     ]
    }
   ],
   "source": [
    "### List comprehension with local scope\n",
    "\n",
    "x = 'ABC'\n",
    "\n",
    "codes = [ord(x) for x in x] # note: there is no side effect here\n",
    "\n",
    "print(codes)\n",
    "\n",
    "assert x == 'ABC' # which is a proof that the x in 2nd line was a local scope"
   ]
  },
  {
   "cell_type": "code",
   "execution_count": 11,
   "metadata": {},
   "outputs": [
    {
     "name": "stdout",
     "output_type": "stream",
     "text": [
      "[65, 66, 67]\n",
      "67\n",
      "Doesn't exist\n"
     ]
    }
   ],
   "source": [
    "# Using the walrus operator, that remains accessible even after the enclosing function\n",
    "codes = [last := ord(c) for c in x]\n",
    "\n",
    "print(codes)\n",
    "\n",
    "print(last)\n",
    "\n",
    "def is_valid():\n",
    "    #print(c)\n",
    "    raise NameError(\"Doesn't exist\")\n",
    "\n",
    "try:\n",
    "    is_valid()\n",
    "except Exception as e:\n",
    "    print(e)"
   ]
  },
  {
   "cell_type": "code",
   "execution_count": 12,
   "metadata": {},
   "outputs": [
    {
     "name": "stdout",
     "output_type": "stream",
     "text": [
      "(104, 101, 108, 108, 111, 119, 111, 114, 108, 100)\n"
     ]
    }
   ],
   "source": [
    "### Generator Expressions\n",
    "\"\"\"\n",
    "generator expression saves memeory as it yeilds item one at a time\n",
    "Genexps use the same syntax as list comp but uses brackets\n",
    "\"\"\"\n",
    "\n",
    "print(tuple(ord(x) for x in \"helloworld\")) # this is a gen expr"
   ]
  },
  {
   "cell_type": "code",
   "execution_count": 13,
   "metadata": {},
   "outputs": [],
   "source": [
    "# Tuple as immutable list\n",
    "# Note: A tuple is a immutable list of reference, but if there reference is immutable , it can be changed\n",
    "\n",
    "a = (10, 'alpha', [1, 2])\n",
    "b = (10, 'alpha', [1, 2])\n",
    "\n",
    "assert a == b\n",
    "\n",
    "b[-1].append(99)\n",
    "\n",
    "assert a != b\n"
   ]
  },
  {
   "cell_type": "code",
   "execution_count": 23,
   "metadata": {},
   "outputs": [
    {
     "name": "stdout",
     "output_type": "stream",
     "text": [
      "True\n",
      "False\n"
     ]
    }
   ],
   "source": [
    "### Tuples with mutable object can be souce of bug, as we cannot generate a hash of something that changes\n",
    "# also a tuple with immutable objects only can be used a dict key\n",
    "\n",
    "def fixed(o):\n",
    "    try: \n",
    "        hash(o)\n",
    "    except TypeError:\n",
    "        return False\n",
    "    return True\n",
    "\n",
    "t_im = (10, 'alpha', (1,2))\n",
    "t_m = (10, 'alpha', [1,2])\n",
    "\n",
    "\n",
    "print(fixed(t_im))\n",
    "print(fixed(t_m))\n",
    "\n",
    "# note: tuple(t) given t is a tuple - references the same tuple\n",
    "# but for list(l) it creates a new list (ref) different from l\n",
    "\n",
    "# testing with tuples\n",
    "t = (1,2,3)\n",
    "t_ref = tuple(t)\n",
    "\n",
    "assert id(t) == id(t_ref)\n",
    "\n",
    "# for immutable type like tuple we can also use hash\n",
    "\n",
    "assert hash(t) == hash(t_ref)\n",
    "\n",
    "# testing with list\n",
    "\n",
    "l = [1,2,3]\n",
    "l_ref = list(l)\n",
    "\n",
    "assert id(l) != id(l_ref)"
   ]
  },
  {
   "cell_type": "code",
   "execution_count": 24,
   "metadata": {},
   "outputs": [
    {
     "data": {
      "text/plain": [
       "(1, 2, 3, 4, (5, 6))"
      ]
     },
     "execution_count": 24,
     "metadata": {},
     "output_type": "execute_result"
    }
   ],
   "source": [
    "# function call with unpacking\n",
    "def func(a, b, c, d, *rest):\n",
    "    return a, b, c, d, rest\n",
    "\n",
    "func(*[1,2], 3, *range(4,7))"
   ]
  },
  {
   "cell_type": "code",
   "execution_count": 29,
   "metadata": {},
   "outputs": [
    {
     "name": "stdout",
     "output_type": "stream",
     "text": [
      "test\n",
      "test 2\n",
      "test 3\n",
      "This is a generic test\n"
     ]
    }
   ],
   "source": [
    "### Pattern matching with sequence\n",
    "\n",
    "def handle_command(message):\n",
    "    match message:\n",
    "        case 'test':\n",
    "            print(\"test\")\n",
    "        case ['test',  test_id]: # this will capture the test <id> pattern\n",
    "            print(f'test {test_id}')\n",
    "        case _ :\n",
    "            print('This is a generic test')\n",
    "\n",
    "handle_command('test')\n",
    "handle_command(('test', 2))\n",
    "handle_command(['test', 3])\n",
    "handle_command('testing 3')"
   ]
  },
  {
   "cell_type": "code",
   "execution_count": 30,
   "metadata": {},
   "outputs": [
    {
     "name": "stdout",
     "output_type": "stream",
     "text": [
      "[0, 1, 2, 3, 4, 5, 6, 7, 8, 9]\n",
      "[0, 1, 20, 30, 5, 6, 7, 8, 9]\n",
      "[0, 1, 20, 6, 7, 8, 9]\n",
      "[0, 1, 100, 7, 8, 9]\n"
     ]
    }
   ],
   "source": [
    "## Assigning to slices\n",
    "\n",
    "l = list(range(10))\n",
    "print(l)\n",
    "\n",
    "l[2:5] = [20,30] # shape is 2 \n",
    "\n",
    "print(l)\n",
    "\n",
    "del l[3:5]\n",
    "\n",
    "print(l)\n",
    "\n",
    "l[2:4] = [100] # this is like a shrink operation\n",
    "\n",
    "print(l)"
   ]
  },
  {
   "cell_type": "code",
   "execution_count": 31,
   "metadata": {},
   "outputs": [
    {
     "name": "stdout",
     "output_type": "stream",
     "text": [
      "4422748608\n",
      "4422748608\n"
     ]
    }
   ],
   "source": [
    "# Checking the behavior of augmented assignment with sequences\n",
    "# Note: for mutable sequence, the operation happens inplace - hence same id\n",
    "# for immutable eg: tuples - it creates a new tuple hence a new id\n",
    "l = [1, 2, 3]\n",
    "print(id(l))\n",
    "\n",
    "l*=3\n",
    "\n",
    "print(id(l))"
   ]
  },
  {
   "cell_type": "code",
   "execution_count": 33,
   "metadata": {},
   "outputs": [
    {
     "name": "stdout",
     "output_type": "stream",
     "text": [
      "4363148336\n",
      "4422455328\n"
     ]
    }
   ],
   "source": [
    "msg = 'hello'\n",
    "print(id(msg))\n",
    "\n",
    "msg *= 5\n",
    "\n",
    "print(id(msg))"
   ]
  },
  {
   "cell_type": "code",
   "execution_count": 41,
   "metadata": {},
   "outputs": [
    {
     "name": "stdout",
     "output_type": "stream",
     "text": [
      "tuple object has no item assignment\n"
     ]
    }
   ],
   "source": [
    "# A += Assignment puzzler\n",
    "\n",
    "try:\n",
    "    t = (1, 3, [10,20])\n",
    "    t[2] += [30,40]\n",
    "except TypeError as err:\n",
    "    print(\"tuple object has no item assignment\")"
   ]
  },
  {
   "cell_type": "code",
   "execution_count": 42,
   "metadata": {},
   "outputs": [
    {
     "data": {
      "text/plain": [
       "(1, 3, [10, 20, 30, 40])"
      ]
     },
     "execution_count": 42,
     "metadata": {},
     "output_type": "execute_result"
    }
   ],
   "source": [
    "t"
   ]
  },
  {
   "cell_type": "code",
   "execution_count": 43,
   "metadata": {},
   "outputs": [
    {
     "name": "stdout",
     "output_type": "stream",
     "text": [
      "  1           0 LOAD_NAME                0 (t)\n",
      "              2 LOAD_CONST               0 (2)\n",
      "              4 DUP_TOP_TWO\n",
      "              6 BINARY_SUBSCR\n",
      "              8 LOAD_CONST               1 (50)\n",
      "             10 LOAD_CONST               2 (60)\n",
      "             12 BUILD_LIST               2\n",
      "             14 INPLACE_ADD\n",
      "             16 ROT_THREE\n",
      "             18 STORE_SUBSCR\n",
      "             20 LOAD_CONST               3 (None)\n",
      "             22 RETURN_VALUE\n"
     ]
    }
   ],
   "source": [
    "# Checking the bytecode that the python interpreter generates for the following expression\n",
    "import dis\n",
    "dis.dis('t[2] += [50,60]')"
   ]
  },
  {
   "cell_type": "code",
   "execution_count": 44,
   "metadata": {},
   "outputs": [
    {
     "data": {
      "text/plain": [
       "(1, 3, [10, 20, 30, 40])"
      ]
     },
     "execution_count": 44,
     "metadata": {},
     "output_type": "execute_result"
    }
   ],
   "source": [
    "t"
   ]
  },
  {
   "cell_type": "code",
   "execution_count": null,
   "metadata": {},
   "outputs": [],
   "source": [
    "# Python and choice of datastructures\n",
    "\"\"\"\n",
    "Scenario:\n",
    "1. handle large float list -> use array instead to save on memory -> from array import array\n",
    "2. when constantly and removing items from eiter ends of a list -> dequeue\n",
    "3. frequent checks if iten in a collection use set -> sets are iterable but order is not sequential\n",
    "\"\"\""
   ]
  },
  {
   "cell_type": "code",
   "execution_count": 46,
   "metadata": {},
   "outputs": [
    {
     "name": "stdout",
     "output_type": "stream",
     "text": [
      "0.04603168417530468\n",
      "0.04603168417530468\n"
     ]
    }
   ],
   "source": [
    "from array import array\n",
    "from random import random\n",
    "\n",
    "floats = array('d', (random() for _ in range(1000))) # not: d typcode means double precision floats\n",
    "print(floats[-1])\n",
    "\n",
    "# saving a float array to a file\n",
    "\n",
    "with open('save_arr.bin', 'wb') as fw:\n",
    "    floats.tofile(fw)\n",
    "\n",
    "with open('save_arr.bin', 'rb') as fs:\n",
    "    float2 = array('d') # declaring a dummy array of double precision\n",
    "    float2.fromfile(fs, 1000) # reading all the entires from the file \n",
    "\n",
    "    print(float2[-1]) # inspecting the last number and checking if they tally"
   ]
  },
  {
   "cell_type": "code",
   "execution_count": 48,
   "metadata": {},
   "outputs": [
    {
     "data": {
      "text/plain": [
       "array('d', [0.004060231597557418, 0.005398742582030658, 0.005552743233334767, 0.009970836139072015, 0.013592838715324573, 0.013706452158274707, 0.015469757972941034, 0.015499184307338654, 0.01576839489959192, 0.016009607797796366, 0.01737041980365528, 0.017588541193219842, 0.017765256862521395, 0.019097426741800816, 0.019792343437410542, 0.020497129209545717, 0.02110800636401955, 0.0211333073949187, 0.02211644436355753, 0.024248421318556312])"
      ]
     },
     "execution_count": 48,
     "metadata": {},
     "output_type": "execute_result"
    }
   ],
   "source": [
    "# array type has no built-in sort method like sort(), hence we will need to use the sorted method\n",
    "\n",
    "a  = array(floats.typecode, sorted(floats))\n",
    "a[:20]"
   ]
  },
  {
   "cell_type": "code",
   "execution_count": 51,
   "metadata": {},
   "outputs": [
    {
     "name": "stdout",
     "output_type": "stream",
     "text": [
      "array('B', [0, 1, 2, 3, 4, 5])\n",
      "[0, 1, 2, 3, 4, 5]\n",
      "[[0, 1, 2], [3, 4, 5]]\n",
      "[[0, 1], [2, 3], [4, 5]]\n",
      "array('B', [0, 1, 2, 33, 4, 5])\n"
     ]
    }
   ],
   "source": [
    "### Memory Views\n",
    "\"\"\" \n",
    "Memory View is a shared memory sequence type, that lets handle slices of arrays withouting copying bytes\n",
    "MemoryView is like a generalized numpy array strucuture that allows to share memory between data structures without copying.\n",
    "\"\"\"\n",
    "\n",
    "from array import array\n",
    "\n",
    "octets = array('B', range(6))\n",
    "print(octets)\n",
    "\n",
    "m1 = memoryview(octets)\n",
    "\n",
    "print(m1.tolist())\n",
    " \n",
    "m2 = m1.cast('B', [2, 3]) # think of this like reshape\n",
    "print(m2.tolist())\n",
    "\n",
    "m3 = m1.cast('B', [3,2])\n",
    "print(m3.tolist())\n",
    "\n",
    "m3[1,1] = 33\n",
    "\n",
    "print(octets)"
   ]
  }
 ],
 "metadata": {
  "kernelspec": {
   "display_name": "interview",
   "language": "python",
   "name": "python3"
  },
  "language_info": {
   "codemirror_mode": {
    "name": "ipython",
    "version": 3
   },
   "file_extension": ".py",
   "mimetype": "text/x-python",
   "name": "python",
   "nbconvert_exporter": "python",
   "pygments_lexer": "ipython3",
   "version": "3.10.13"
  },
  "orig_nbformat": 4
 },
 "nbformat": 4,
 "nbformat_minor": 2
}
