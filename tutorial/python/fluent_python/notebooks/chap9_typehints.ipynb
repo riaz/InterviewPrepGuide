{
 "cells": [
  {
   "cell_type": "code",
   "execution_count": null,
   "metadata": {},
   "outputs": [],
   "source": [
    "### Testing optional type\n",
    "from typing import Optional\n",
    "\n",
    "def show_cnt(cnt: int, singular: str, plural: Optional[str] = None) -> str :\n",
    "    \"\"\"\n",
    "    Note: \n",
    "    above for plural it means that the variable plural is optional and not required\n",
    "    It can asume the value None or str \n",
    "    Also during python runtime - type checking is not enforced, hence plural becomes a required param if None is not\n",
    "    passed\n",
    "    \"\"\"\n",
    "    if cnt > 0  and plural:\n",
    "        return f'{singular}\\'{plural}'\n",
    "    \n"
   ]
  },
  {
   "cell_type": "code",
   "execution_count": null,
   "metadata": {},
   "outputs": [],
   "source": [
    "show_cnt(2, 'hello', 's')"
   ]
  }
 ],
 "metadata": {
  "language_info": {
   "name": "python"
  },
  "orig_nbformat": 4
 },
 "nbformat": 4,
 "nbformat_minor": 2
}
