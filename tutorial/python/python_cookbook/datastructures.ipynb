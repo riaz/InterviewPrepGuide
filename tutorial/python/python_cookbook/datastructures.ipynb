{
 "cells": [
  {
   "cell_type": "code",
   "execution_count": 5,
   "metadata": {},
   "outputs": [
    {
     "name": "stdout",
     "output_type": "stream",
     "text": [
      "line 1 python is easy\n",
      " --------------------\n",
      "line 1 python is easy\n",
      " line 2 python is easy\n",
      " --------------------\n",
      "line 1 python is easy\n",
      " line 2 python is easy\n",
      " line 3 python is easy\n",
      " --------------------\n",
      "line 2 python is easy\n",
      " line 3 python is easy\n",
      " line 4 python is easy\n",
      " --------------------\n",
      "line 3 python is easy\n",
      " line 4 python is easy\n",
      " line 5 python is easy\n",
      " --------------------\n",
      "line 4 python is easy\n",
      " line 5 python is easy\n",
      " line 6 python is easy\n",
      " --------------------\n",
      "line 5 python is easy\n",
      " line 6 python is easy\n",
      " line 7 python is easy --------------------\n"
     ]
    }
   ],
   "source": [
    "### limited history of few items\n",
    "from collections import deque\n",
    "\n",
    "def search(lines, pattern, history=5):\n",
    "    previous_values = deque(maxlen=history)\n",
    "    for line in lines:\n",
    "        if pattern in line:\n",
    "            yield line, previous_values\n",
    "        previous_values.append(line)\n",
    "\n",
    "with open(\"data/sample_file1.txt\") as f:\n",
    "    for line, prevlines in search(f, \"python\", 2):\n",
    "        for pline in prevlines:\n",
    "            print(pline, end=' ')\n",
    "        print(line, end=' ')\n",
    "        print('-'*20)"
   ]
  },
  {
   "cell_type": "code",
   "execution_count": null,
   "metadata": {},
   "outputs": [],
   "source": [
    "### Finding the cheapest and the most expensive stocks"
   ]
  },
  {
   "cell_type": "code",
   "execution_count": 7,
   "metadata": {},
   "outputs": [],
   "source": [
    "portfolio = [\n",
    "   {'name': 'IBM', 'shares': 100, 'price': 91.1},\n",
    "   {'name': 'AAPL', 'shares': 50, 'price': 543.22},\n",
    "   {'name': 'FB', 'shares': 200, 'price': 21.09},\n",
    "   {'name': 'HPQ', 'shares': 35, 'price': 31.75},\n",
    "   {'name': 'YHOO', 'shares': 45, 'price': 16.35},\n",
    "   {'name': 'ACME', 'shares': 75, 'price': 115.65}\n",
    "]"
   ]
  },
  {
   "cell_type": "code",
   "execution_count": 9,
   "metadata": {},
   "outputs": [
    {
     "name": "stdout",
     "output_type": "stream",
     "text": [
      "[{'name': 'YHOO', 'shares': 45, 'price': 16.35}]\n"
     ]
    }
   ],
   "source": [
    "### finding the cheapest and the most expensive stocks from these\n",
    "\n",
    "import heapq\n",
    "\n",
    "smallest_stock = heapq.nsmallest(1, portfolio, lambda val: val['price']) # this returns the object with the smallest price\n",
    "\n",
    "print(smallest_stock)"
   ]
  },
  {
   "cell_type": "code",
   "execution_count": 11,
   "metadata": {},
   "outputs": [
    {
     "name": "stdout",
     "output_type": "stream",
     "text": [
      "{'name': 'AAPL', 'shares': 50, 'price': 543.22}\n",
      "{'name': 'ACME', 'shares': 75, 'price': 115.65}\n",
      "{'name': 'IBM', 'shares': 100, 'price': 91.1}\n"
     ]
    }
   ],
   "source": [
    "# getting the largest 3 stocks\n",
    "\n",
    "largest_3 = heapq.nlargest(3, portfolio, lambda val: val['price'])\n",
    "\n",
    "for ticker in largest_3:\n",
    "    print(ticker)"
   ]
  },
  {
   "cell_type": "code",
   "execution_count": 14,
   "metadata": {},
   "outputs": [],
   "source": [
    "### Implementaing a priority queue\n",
    "\n",
    "import heapq\n",
    "\n",
    "class PriorityQueue:\n",
    "    def __init__(self):\n",
    "        self.queue = []\n",
    "        self._index = 0 \n",
    "    \n",
    "    def push(self, val, priority):\n",
    "        heapq.heappush(self.queue, (-priority, self._index, val))\n",
    "        self._index += 1\n",
    "\n",
    "    def pop(self):\n",
    "        return heapq.heappop(self.queue)[-1]"
   ]
  },
  {
   "cell_type": "code",
   "execution_count": 17,
   "metadata": {},
   "outputs": [],
   "source": [
    "class Item:\n",
    "    def __init__(self, name):\n",
    "        self.name = name\n",
    "\n",
    "    def __repr__(self):\n",
    "        return \"Item({!r})\".format(self.name)\n"
   ]
  },
  {
   "cell_type": "code",
   "execution_count": 18,
   "metadata": {},
   "outputs": [],
   "source": [
    "pq = PriorityQueue()"
   ]
  },
  {
   "cell_type": "code",
   "execution_count": 20,
   "metadata": {},
   "outputs": [
    {
     "name": "stdout",
     "output_type": "stream",
     "text": [
      "Item(90)\n",
      "Item(30)\n",
      "Item(10)\n"
     ]
    }
   ],
   "source": [
    "pq.push(Item(10), 10)\n",
    "pq.push(Item(30), 30)\n",
    "pq.push(Item(90), 90)\n",
    "\n",
    "print(pq.pop())\n",
    "print(pq.pop())\n",
    "print(pq.pop())"
   ]
  },
  {
   "cell_type": "code",
   "execution_count": 30,
   "metadata": {},
   "outputs": [],
   "source": [
    "from collections import defaultdict\n",
    "import unittest\n",
    "\n",
    "x = defaultdict(list)\n",
    "\n",
    "x['a'].append(1)\n",
    "x['a'].append(2)\n",
    "x['b'].append(3)\n",
    "\n",
    "y = {}\n",
    "\n",
    "y.setdefault('a', []).append(1)\n",
    "y.setdefault('a', []).append(2)\n",
    "y.setdefault('b', []).append(3)"
   ]
  },
  {
   "cell_type": "code",
   "execution_count": 36,
   "metadata": {},
   "outputs": [
    {
     "name": "stdout",
     "output_type": "stream",
     "text": [
      "{'a': [1, 2], 'b': [3]}\n",
      "{'a': [1, 2], 'b': [3]}\n"
     ]
    }
   ],
   "source": [
    "print(dict(x))\n",
    "print(y)"
   ]
  },
  {
   "cell_type": "code",
   "execution_count": 39,
   "metadata": {},
   "outputs": [
    {
     "name": "stderr",
     "output_type": "stream",
     "text": [
      "test_list_eq (__main__.TestList) ... ok\n",
      "\n",
      "----------------------------------------------------------------------\n",
      "Ran 1 test in 0.002s\n",
      "\n",
      "OK\n"
     ]
    },
    {
     "data": {
      "text/plain": [
       "<unittest.main.TestProgram at 0x105ac3220>"
      ]
     },
     "execution_count": 39,
     "metadata": {},
     "output_type": "execute_result"
    }
   ],
   "source": [
    "class TestList(unittest.TestCase):\n",
    "    def test_list_eq(self):\n",
    "        self.assertDictEqual(x, y) # Note:\n",
    "\n",
    "# this is the method for using unitest inside juputer kernel\n",
    "unittest.main(argv=[''], verbosity=2, exit=False)"
   ]
  },
  {
   "cell_type": "code",
   "execution_count": 55,
   "metadata": {},
   "outputs": [],
   "source": [
    "dict_a = {\n",
    "   'x' : 1,\n",
    "   'y' : 2,\n",
    "   'z' : 3\n",
    "}\n",
    "\n",
    "dict_b = {\n",
    "   'x' : 11,\n",
    "   'y' : 2,\n",
    "   'w' : 10\n",
    "}\n"
   ]
  },
  {
   "cell_type": "code",
   "execution_count": 56,
   "metadata": {},
   "outputs": [
    {
     "name": "stdout",
     "output_type": "stream",
     "text": [
      "dict_keys(['x', 'y', 'z'])\n",
      "dict_keys(['x', 'y', 'w'])\n"
     ]
    }
   ],
   "source": [
    "print(dict_a.keys())\n",
    "print(dict_b.keys())"
   ]
  },
  {
   "cell_type": "code",
   "execution_count": 57,
   "metadata": {},
   "outputs": [
    {
     "name": "stdout",
     "output_type": "stream",
     "text": [
      "{'x', 'y'}\n"
     ]
    }
   ],
   "source": [
    "# finding keys in common\n",
    "print(dict_a.keys() & dict_b.keys())"
   ]
  },
  {
   "cell_type": "code",
   "execution_count": 58,
   "metadata": {},
   "outputs": [
    {
     "data": {
      "text/plain": [
       "{'z'}"
      ]
     },
     "execution_count": 58,
     "metadata": {},
     "output_type": "execute_result"
    }
   ],
   "source": [
    "# find the keys in dict_a but not in dict_b - z\n",
    "\n",
    "dict_a.keys() - dict_b.keys()"
   ]
  },
  {
   "cell_type": "code",
   "execution_count": 59,
   "metadata": {},
   "outputs": [
    {
     "data": {
      "text/plain": [
       "{('y', 2)}"
      ]
     },
     "execution_count": 59,
     "metadata": {},
     "output_type": "execute_result"
    }
   ],
   "source": [
    "# fnd the (k,v) that are common in both\n",
    "\n",
    "dict_a.items() & dict_b.items()"
   ]
  },
  {
   "cell_type": "code",
   "execution_count": 60,
   "metadata": {},
   "outputs": [
    {
     "name": "stdout",
     "output_type": "stream",
     "text": [
      "z 3\n",
      "x 1\n"
     ]
    }
   ],
   "source": [
    "# smart way to remove keys when looping\n",
    "\n",
    "for k in dict_a.keys() - {'y'}:\n",
    "    print(k, dict_a[k])"
   ]
  },
  {
   "cell_type": "code",
   "execution_count": 61,
   "metadata": {},
   "outputs": [
    {
     "name": "stdout",
     "output_type": "stream",
     "text": [
      "a\n",
      "b\n",
      "c\n"
     ]
    }
   ],
   "source": [
    "# removing duplicates from a sequence while maintaing order\n",
    "\n",
    "lst_a = ['a', 'a', 'b', 'c', 'c', 'c']\n",
    "\n",
    "def dedupe(lst):\n",
    "    seen = set()\n",
    "    for item in lst:\n",
    "        if item not in seen:\n",
    "            yield item\n",
    "            seen.add(item)\n",
    "\n",
    "for val in dedupe(lst_a):\n",
    "    print(val)"
   ]
  },
  {
   "cell_type": "code",
   "execution_count": 63,
   "metadata": {},
   "outputs": [],
   "source": [
    "# What if the item we are tying to dedupe is not hashable\n",
    "# we will assume a key, that can use used to make a unhashable type to hashable\n",
    "\n",
    "def dedupe(items, key=None):\n",
    "    seen = set()\n",
    "    for item in items:\n",
    "        val = item if key is None else key(item)\n",
    "        if val not in seen:\n",
    "            yield item\n",
    "            seen.add(val)"
   ]
  },
  {
   "cell_type": "code",
   "execution_count": 64,
   "metadata": {},
   "outputs": [
    {
     "name": "stdout",
     "output_type": "stream",
     "text": [
      "[2, 3]\n",
      "[2, 3]\n"
     ]
    }
   ],
   "source": [
    "# data\n",
    "\n",
    "items = [0,1,2,3,4,5,6,7]\n",
    "\n",
    "a = slice(2, 4)\n",
    "\n",
    "print(items[2:4])\n",
    "\n",
    "print(items[a])"
   ]
  },
  {
   "cell_type": "code",
   "execution_count": 65,
   "metadata": {},
   "outputs": [],
   "source": [
    "rows = [\n",
    "    {'fname': 'Brian', 'lname': 'Jones', 'uid': 1003},\n",
    "    {'fname': 'David', 'lname': 'Beazley', 'uid': 1002},\n",
    "    {'fname': 'John', 'lname': 'Cleese', 'uid': 1001},\n",
    "    {'fname': 'Big', 'lname': 'Jones', 'uid': 1004}\n",
    "]"
   ]
  },
  {
   "cell_type": "code",
   "execution_count": 66,
   "metadata": {},
   "outputs": [
    {
     "name": "stdout",
     "output_type": "stream",
     "text": [
      "[{'fname': 'John', 'lname': 'Cleese', 'uid': 1001}, {'fname': 'David', 'lname': 'Beazley', 'uid': 1002}, {'fname': 'Brian', 'lname': 'Jones', 'uid': 1003}, {'fname': 'Big', 'lname': 'Jones', 'uid': 1004}]\n",
      "[{'fname': 'Big', 'lname': 'Jones', 'uid': 1004}, {'fname': 'Brian', 'lname': 'Jones', 'uid': 1003}, {'fname': 'David', 'lname': 'Beazley', 'uid': 1002}, {'fname': 'John', 'lname': 'Cleese', 'uid': 1001}]\n"
     ]
    }
   ],
   "source": [
    "from operator import itemgetter\n",
    "\n",
    "rows_by_fname = sorted(rows, key=itemgetter('fname'))\n",
    "rows_by_uid = sorted(rows, key=itemgetter('uid'))\n",
    "\n",
    "print(rows_by_uid)\n",
    "print(rows_by_fname)"
   ]
  },
  {
   "cell_type": "code",
   "execution_count": 70,
   "metadata": {},
   "outputs": [],
   "source": [
    "### Chain Map - works with the original dict\n",
    "\n",
    "from collections import ChainMap\n",
    "\n",
    "# can be used to enforce versioning\n",
    "# i.e the value of the chain, will be in the order of their appearance in the chain\n",
    "\n",
    "a = {'x': 1, 'z': 3}\n",
    "b = {'x':2 , 'z': 4, 'w': 1}\n",
    "c = {'x': 3, 'w': 2, 'q': 10}\n",
    "\n",
    "m = ChainMap(a, b, c)\n",
    "\n",
    "assert m['x'] == 1\n",
    "assert m['z'] == 3\n",
    "assert m['w'] == 1\n",
    "assert m['q'] == 10\n",
    "\n",
    "# also since chainmap uses the original dicts, its by reference\n",
    "\n",
    "a['x'] = 10\n",
    "\n",
    "assert m['x'] == 10"
   ]
  },
  {
   "cell_type": "code",
   "execution_count": null,
   "metadata": {},
   "outputs": [],
   "source": [
    "# group records together by a field"
   ]
  },
  {
   "cell_type": "code",
   "execution_count": 74,
   "metadata": {},
   "outputs": [],
   "source": [
    "rows = [\n",
    "    {'address': '5412 N CLARK', 'date': '07/01/2012'},\n",
    "    {'address': '5148 N CLARK', 'date': '07/04/2012'},\n",
    "    {'address': '5800 E 58TH', 'date': '07/02/2012'},\n",
    "    {'address': '2122 N CLARK', 'date': '07/03/2012'},\n",
    "    {'address': '5645 N RAVENSWOOD', 'date': '07/02/2012'},\n",
    "    {'address': '1060 W ADDISON', 'date': '07/02/2012'},\n",
    "    {'address': '4801 N BROADWAY', 'date': '07/01/2012'},\n",
    "    {'address': '1039 W GRANVILLE', 'date': '07/04/2012'},\n",
    "]\n"
   ]
  },
  {
   "cell_type": "code",
   "execution_count": 75,
   "metadata": {},
   "outputs": [
    {
     "name": "stdout",
     "output_type": "stream",
     "text": [
      "07/01/2012\n",
      "{'address': '5412 N CLARK', 'date': '07/01/2012'}\n",
      "{'address': '4801 N BROADWAY', 'date': '07/01/2012'}\n",
      "07/02/2012\n",
      "{'address': '5800 E 58TH', 'date': '07/02/2012'}\n",
      "{'address': '5645 N RAVENSWOOD', 'date': '07/02/2012'}\n",
      "{'address': '1060 W ADDISON', 'date': '07/02/2012'}\n",
      "07/03/2012\n",
      "{'address': '2122 N CLARK', 'date': '07/03/2012'}\n",
      "07/04/2012\n",
      "{'address': '5148 N CLARK', 'date': '07/04/2012'}\n",
      "{'address': '1039 W GRANVILLE', 'date': '07/04/2012'}\n"
     ]
    }
   ],
   "source": [
    "from operator import itemgetter\n",
    "from itertools import groupby\n",
    "\n",
    "rows.sort(key=itemgetter('date'))\n",
    "          \n",
    "# Iterate in the groups\n",
    "for date, items in groupby(rows, key=itemgetter('date')): # note: key is passed a callable\n",
    "    print(date)\n",
    "    for i in items:\n",
    "        print(i)\n",
    "\n",
    "          "
   ]
  },
  {
   "cell_type": "code",
   "execution_count": 78,
   "metadata": {},
   "outputs": [
    {
     "name": "stdout",
     "output_type": "stream",
     "text": [
      "[User (21), User (33), User (99)]\n",
      "[User (21), User (33), User (99)]\n"
     ]
    }
   ],
   "source": [
    "# sorting objects without native comparison support\n",
    "\n",
    "class User:\n",
    "    def __init__(self, user_id):\n",
    "        self.user_id = user_id\n",
    "    \n",
    "    def __repr__(self):\n",
    "        return \"User ({!r})\".format(self.user_id)\n",
    "    \n",
    "\n",
    "users = [User(33), User(21), User(99)]\n",
    "\n",
    "print(sorted(users, key=lambda u: u.user_id))\n",
    "\n",
    "# alternatively\n",
    "from operator import attrgetter\n",
    "print(sorted(users, key=attrgetter('user_id'))) # here we can sort by multiple attributes\n"
   ]
  }
 ],
 "metadata": {
  "kernelspec": {
   "display_name": "interview",
   "language": "python",
   "name": "python3"
  },
  "language_info": {
   "codemirror_mode": {
    "name": "ipython",
    "version": 3
   },
   "file_extension": ".py",
   "mimetype": "text/x-python",
   "name": "python",
   "nbconvert_exporter": "python",
   "pygments_lexer": "ipython3",
   "version": "3.10.13"
  },
  "orig_nbformat": 4
 },
 "nbformat": 4,
 "nbformat_minor": 2
}
