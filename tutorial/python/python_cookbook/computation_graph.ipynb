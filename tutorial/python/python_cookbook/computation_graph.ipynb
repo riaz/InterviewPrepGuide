{
 "cells": [
  {
   "cell_type": "code",
   "execution_count": 1,
   "metadata": {},
   "outputs": [
    {
     "name": "stdout",
     "output_type": "stream",
     "text": [
      "Result: 40\n",
      "Result: 30\n",
      "Result: 6\n"
     ]
    }
   ],
   "source": [
    "class Operator:\n",
    "    def operate(self, x, y):\n",
    "        pass\n",
    "\n",
    "class Add(Operator):\n",
    "    def operate(self, x, y):\n",
    "        return x + y\n",
    "\n",
    "class Mul(Operator):\n",
    "    def operate(self, x, y):\n",
    "        return x * y\n",
    "\n",
    "class Subtract(Operator):\n",
    "    def operate(self, x, y):\n",
    "        return x - y\n",
    "\n",
    "def get_operator(sign):\n",
    "    if sign == '+':\n",
    "        return Add()\n",
    "    elif sign == '*':\n",
    "        return Mul()\n",
    "    elif sign == '-':\n",
    "        return Subtract()\n",
    "    else:\n",
    "        raise ValueError(\"Unsupported operator\")\n",
    "\n",
    "# Example usage:\n",
    "lst = [\n",
    "    ['+', 10, 30],\n",
    "    ['-', 50, 20],\n",
    "    ['*', 2, 3]\n",
    "]\n",
    "\n",
    "for entry in lst:\n",
    "    op, n1, n2 = entry\n",
    "    operator_instance = get_operator(op)\n",
    "    result = operator_instance.operate(n1, n2)\n",
    "    print(f\"Result: {result}\")\n"
   ]
  },
  {
   "cell_type": "code",
   "execution_count": null,
   "metadata": {},
   "outputs": [],
   "source": [
    "###  Using a dictionary instead"
   ]
  },
  {
   "cell_type": "code",
   "execution_count": 2,
   "metadata": {},
   "outputs": [
    {
     "name": "stdout",
     "output_type": "stream",
     "text": [
      "Result: 40\n",
      "Result: 30\n",
      "Result: 6\n"
     ]
    },
    {
     "ename": "",
     "evalue": "",
     "output_type": "error",
     "traceback": [
      "\u001b[1;31mThe Kernel crashed while executing code in the the current cell or a previous cell. Please review the code in the cell(s) to identify a possible cause of the failure. Click <a href='https://aka.ms/vscodeJupyterKernelCrash'>here</a> for more info. View Jupyter <a href='command:jupyter.viewOutput'>log</a> for further details."
     ]
    }
   ],
   "source": [
    "class Operator:\n",
    "    def operate(self, x, y):\n",
    "        pass\n",
    "\n",
    "class Add(Operator):\n",
    "    def operate(self, x, y):\n",
    "        return x + y\n",
    "\n",
    "class Mul(Operator):\n",
    "    def operate(self, x, y):\n",
    "        return x * y\n",
    "\n",
    "class Subtract(Operator):\n",
    "    def operate(self, x, y):\n",
    "        return x - y\n",
    "\n",
    "operator_mapping = {\n",
    "    '+': Add(),\n",
    "    '*': Mul(),\n",
    "    '-': Subtract()\n",
    "}\n",
    "\n",
    "def get_operator(sign):\n",
    "    operator_instance = operator_mapping.get(sign)\n",
    "    if operator_instance is None:\n",
    "        raise ValueError(\"Unsupported operator\")\n",
    "    return operator_instance\n",
    "\n",
    "lst = [\n",
    "    ['+', 10, 30],\n",
    "    ['-', 50, 20],\n",
    "    ['*', 2, 3]\n",
    "]\n",
    "\n",
    "for entry in lst:\n",
    "    op, n1, n2 = entry\n",
    "    operator_instance = get_operator(op)\n",
    "    result = operator_instance.operate(n1, n2)\n",
    "    print(f\"Result: {result}\")"
   ]
  }
 ],
 "metadata": {
  "kernelspec": {
   "display_name": "interview",
   "language": "python",
   "name": "python3"
  },
  "language_info": {
   "codemirror_mode": {
    "name": "ipython",
    "version": 3
   },
   "file_extension": ".py",
   "mimetype": "text/x-python",
   "name": "python",
   "nbconvert_exporter": "python",
   "pygments_lexer": "ipython3",
   "version": "3.10.13"
  },
  "orig_nbformat": 4
 },
 "nbformat": 4,
 "nbformat_minor": 2
}
