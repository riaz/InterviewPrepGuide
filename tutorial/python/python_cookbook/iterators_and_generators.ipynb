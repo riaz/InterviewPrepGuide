{
 "cells": [
  {
   "cell_type": "code",
   "execution_count": null,
   "metadata": {},
   "outputs": [],
   "source": [
    "### Manually consuming an iterator"
   ]
  },
  {
   "cell_type": "code",
   "execution_count": null,
   "metadata": {},
   "outputs": [],
   "source": [
    "lst = iter(list(range(10)))\n",
    "\n",
    "try:\n",
    "    while True:\n",
    "        print(next(lst))\n",
    "except StopIteration as si:\n",
    "    pass"
   ]
  },
  {
   "cell_type": "code",
   "execution_count": null,
   "metadata": {},
   "outputs": [],
   "source": [
    "# or without try\n",
    "\n",
    "lst = iter(range(10))\n",
    "\n",
    "while True:\n",
    "    line = next(lst, None)  # we are telling next to return None when its done iterating \n",
    "    if line is None:\n",
    "        break\n",
    "    print(line)"
   ]
  },
  {
   "cell_type": "markdown",
   "metadata": {},
   "source": [
    "### Using a file iterator"
   ]
  },
  {
   "cell_type": "code",
   "execution_count": null,
   "metadata": {},
   "outputs": [],
   "source": [
    "with open(\"/etc/passwd\", \"r\") as f:\n",
    "    # note: f is a generator\n",
    "    try:\n",
    "        while True:\n",
    "            entry = next(f)\n",
    "            print(entry)\n",
    "    except StopIteration as si:\n",
    "        pass"
   ]
  },
  {
   "cell_type": "code",
   "execution_count": 2,
   "metadata": {},
   "outputs": [
    {
     "name": "stdout",
     "output_type": "stream",
     "text": [
      "0 1 2 3 4 5 6 7 8 9 "
     ]
    }
   ],
   "source": [
    "# instructing next to do nothing, passing None when there is nothing more to iterate on\n",
    "lst = iter(list(range(10)))\n",
    "while True:\n",
    "    entry = next(lst, None) # passing None prevents from throwing StopIteration exception    \n",
    "    if entry is None:\n",
    "        break\n",
    "    print(entry, end = ' ')\n",
    "    "
   ]
  },
  {
   "cell_type": "markdown",
   "metadata": {},
   "source": [
    "### Creating a custom iterator for your own container (defined using a class)"
   ]
  },
  {
   "cell_type": "code",
   "execution_count": 4,
   "metadata": {},
   "outputs": [],
   "source": [
    "from __future__ import annotations \n",
    "\n",
    "\"\"\"\n",
    "Note: before py 3.7 one would have to use 'Node' instead to delay evaluation of the type\n",
    "But: Post 3.7, we can import - from __futures__ import annotations , to prepone evaluation of annotation\n",
    "\"\"\"\n",
    "\n",
    "class Node:\n",
    "    def __init__(self, value: int):\n",
    "        self._value : int = value\n",
    "        self._children : list[Node] = []\n",
    "    \n",
    "    def __repr__(self):\n",
    "        return 'Node({!r})'.format(self._value)\n",
    "    \n",
    "    def add_children(self, node: Node):\n",
    "        self._children.append(node)\n",
    "    \n",
    "    def __iter__(self):\n",
    "        return iter(self._children)"
   ]
  },
  {
   "cell_type": "code",
   "execution_count": 5,
   "metadata": {},
   "outputs": [
    {
     "name": "stdout",
     "output_type": "stream",
     "text": [
      "Node(1)\n",
      "Node(2)\n"
     ]
    }
   ],
   "source": [
    "node = Node(0)\n",
    "child1 = Node(1)\n",
    "child2 = Node(2)\n",
    "\n",
    "node.add_children(child1)\n",
    "node.add_children(child2)\n",
    "\n",
    "for ch in node: # note: think of this as iter() being called on the node object which internally calls on nodes children\n",
    "    print(ch) # this should call __repr__\n"
   ]
  },
  {
   "cell_type": "code",
   "execution_count": 23,
   "metadata": {},
   "outputs": [],
   "source": [
    "# writing custom incrementor - floating point numbers\n",
    "def frange(start, stop, increment):\n",
    "    x = start\n",
    "    while x < stop:\n",
    "        yield x\n",
    "        x += increment"
   ]
  },
  {
   "cell_type": "code",
   "execution_count": 25,
   "metadata": {},
   "outputs": [
    {
     "data": {
      "text/plain": [
       "[0.1,\n",
       " 0.5,\n",
       " 0.9,\n",
       " 1.3,\n",
       " 1.7000000000000002,\n",
       " 2.1,\n",
       " 2.5,\n",
       " 2.9,\n",
       " 3.3,\n",
       " 3.6999999999999997,\n",
       " 4.1,\n",
       " 4.5,\n",
       " 4.9]"
      ]
     },
     "execution_count": 25,
     "metadata": {},
     "output_type": "execute_result"
    }
   ],
   "source": [
    "list(frange(0.1, 5, 0.4))"
   ]
  },
  {
   "cell_type": "code",
   "execution_count": 27,
   "metadata": {},
   "outputs": [],
   "source": [
    "## Implementing Iterator Protocol\n",
    "\n",
    "class Node:\n",
    "    def __init__(self, value: int):\n",
    "        self._value : int = value\n",
    "        self._children : list[Node] = []\n",
    "    \n",
    "    def __repr__(self) -> str:\n",
    "        return 'Node({!r})'.format(self._value)\n",
    "\n",
    "    def add_children(self, node: Node) -> None:\n",
    "        self._children.append(node)\n",
    "    \n",
    "    def __iter__(self) -> Node:\n",
    "        return iter(self._children)\n",
    "\n",
    "    def depth_first(self):\n",
    "        yield self # yield itself\n",
    "        for ch in self:\n",
    "            yield from ch.depth_first() # yield from the children of the node"
   ]
  },
  {
   "cell_type": "code",
   "execution_count": 28,
   "metadata": {},
   "outputs": [],
   "source": [
    "root = Node(0)\n",
    "child1 = Node(1)\n",
    "child2 = Node(2)\n",
    "\n",
    "root.add_children(child1)\n",
    "root.add_children(child2)\n",
    "\n",
    "child1.add_children(Node(3))\n",
    "child1.add_children(Node(4))\n",
    "child2.add_children(Node(5))"
   ]
  },
  {
   "cell_type": "code",
   "execution_count": 29,
   "metadata": {},
   "outputs": [
    {
     "name": "stdout",
     "output_type": "stream",
     "text": [
      "Node(!0)\n",
      "Node(!1)\n",
      "Node(!3)\n",
      "Node(!4)\n",
      "Node(!2)\n",
      "Node(!5)\n"
     ]
    }
   ],
   "source": [
    "for ch in root.depth_first():\n",
    "    print(ch)"
   ]
  }
 ],
 "metadata": {
  "kernelspec": {
   "display_name": "interview",
   "language": "python",
   "name": "python3"
  },
  "language_info": {
   "codemirror_mode": {
    "name": "ipython",
    "version": 3
   },
   "file_extension": ".py",
   "mimetype": "text/x-python",
   "name": "python",
   "nbconvert_exporter": "python",
   "pygments_lexer": "ipython3",
   "version": "3.10.13"
  },
  "orig_nbformat": 4
 },
 "nbformat": 4,
 "nbformat_minor": 2
}
