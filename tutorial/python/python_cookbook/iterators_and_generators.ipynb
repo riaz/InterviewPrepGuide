{
 "cells": [
  {
   "cell_type": "code",
   "execution_count": null,
   "metadata": {},
   "outputs": [],
   "source": [
    "### Manually consuming an iterator"
   ]
  },
  {
   "cell_type": "code",
   "execution_count": null,
   "metadata": {},
   "outputs": [],
   "source": [
    "lst = iter(list(range(10)))\n",
    "\n",
    "try:\n",
    "    while True:\n",
    "        print(next(lst))\n",
    "except StopIteration as si:\n",
    "    pass"
   ]
  },
  {
   "cell_type": "code",
   "execution_count": null,
   "metadata": {},
   "outputs": [],
   "source": [
    "# or without try\n",
    "\n",
    "lst = iter(range(10))\n",
    "\n",
    "while True:\n",
    "    line = next(lst, None)  # we are telling next to return None when its done iterating \n",
    "    if line is None:\n",
    "        break\n",
    "    print(line)"
   ]
  },
  {
   "cell_type": "markdown",
   "metadata": {},
   "source": [
    "### Using a file iterator"
   ]
  },
  {
   "cell_type": "code",
   "execution_count": null,
   "metadata": {},
   "outputs": [],
   "source": [
    "with open(\"/etc/passwd\", \"r\") as f:\n",
    "    # note: f is a generator\n",
    "    try:\n",
    "        while True:\n",
    "            entry = next(f)\n",
    "            print(entry)\n",
    "    except StopIteration as si:\n",
    "        pass"
   ]
  },
  {
   "cell_type": "code",
   "execution_count": null,
   "metadata": {},
   "outputs": [],
   "source": [
    "# instructing next to do nothing, passing None when there is nothing more to iterate on\n",
    "lst = iter(list(range(10)))\n",
    "while True:\n",
    "    entry = next(lst, None) # passing None prevents from throwing StopIteration exception\n",
    "    print(entry, end = ' ')\n",
    "    if entry is None:\n",
    "        break\n",
    "    "
   ]
  }
 ],
 "metadata": {
  "kernelspec": {
   "display_name": "interview",
   "language": "python",
   "name": "python3"
  },
  "language_info": {
   "codemirror_mode": {
    "name": "ipython",
    "version": 3
   },
   "file_extension": ".py",
   "mimetype": "text/x-python",
   "name": "python",
   "nbconvert_exporter": "python",
   "pygments_lexer": "ipython3",
   "version": "3.10.13"
  },
  "orig_nbformat": 4
 },
 "nbformat": 4,
 "nbformat_minor": 2
}
